{
 "cells": [
  {
   "cell_type": "code",
   "execution_count": 4,
   "id": "b709521a",
   "metadata": {},
   "outputs": [],
   "source": [
    "from PIL import Image as PIimage\n",
    "from PIL import ImageDraw\n",
    "# import easyocr\n",
    "import numpy as np\n",
    "from IPython.display import display, Image\n",
    "import sys\n",
    "from pdf2image import convert_from_path\n",
    "# import re \n",
    "# import spacy\n",
    "# from spacy import displacy\n",
    "import os\n",
    "\n",
    "# reader = easyocr.Reader(['en'])\n",
    "filecount = 1\n",
    "directory = \"C:/Users/razor/Desktop/NLP Assignment/Profile\"\n",
    "parent_storage_dir = \"C:/Users/razor/Desktop/NLP Assignment/PDFimageDir\"\n",
    "\n",
    "for filename in os.listdir(directory):\n",
    "    if filename.endswith(\".pdf\"): \n",
    "        PDF_path = os.path.join(directory, filename)       \n",
    "        pages = convert_from_path(PDF_path, poppler_path = r\"C:\\Users\\razor\\Desktop\\NLP\\poppler-0.68.0\\bin\")\n",
    "        \n",
    "        store_file_directory = str(filename)\n",
    "        path = os.path.join(parent_storage_dir, store_file_directory)\n",
    "        os.mkdir(path)\n",
    "        filecount += 1\n",
    "        \n",
    "        count = 1\n",
    "        for number_of_pages in range(len(pages)):\n",
    "            FirstCropped = pages[number_of_pages].crop((0,0,560,2200))\n",
    "            SecondCropped = pages[number_of_pages].crop((560,0,1700,2200))\n",
    "            # display(FirstCropped)\n",
    "            FirstCropped = FirstCropped.save(path + \"/\" + str(count) + \".jpg\")\n",
    "            count += 1\n",
    "\n",
    "            # display(SecondCropped)\n",
    "            SecondCropped = SecondCropped.save(path + \"/\" + str(count) + \".jpg\")\n",
    "            count += 1    \n",
    "    else:\n",
    "        continue    "
   ]
  },
  {
   "cell_type": "code",
   "execution_count": 35,
   "id": "d047b17f",
   "metadata": {},
   "outputs": [],
   "source": []
  }
 ],
 "metadata": {
  "kernelspec": {
   "display_name": "Python 3",
   "language": "python",
   "name": "python3"
  },
  "language_info": {
   "codemirror_mode": {
    "name": "ipython",
    "version": 3
   },
   "file_extension": ".py",
   "mimetype": "text/x-python",
   "name": "python",
   "nbconvert_exporter": "python",
   "pygments_lexer": "ipython3",
   "version": "3.8.8"
  }
 },
 "nbformat": 4,
 "nbformat_minor": 5
}
