{
 "cells": [
  {
   "cell_type": "code",
   "execution_count": 19,
   "id": "dc7bdd51",
   "metadata": {},
   "outputs": [
    {
     "name": "stdout",
     "output_type": "stream",
     "text": [
      "0    Contact www.linkedin.com/in/henry-wky (LinkedI...\n",
      "Name: 0, dtype: object\n"
     ]
    }
   ],
   "source": [
    "excelPath = r'C:\\Users\\razor\\Desktop\\NLP Assignment\\NLPoutput.xlsx'\n",
    "\n",
    "import pandas as pd\n",
    "\n",
    "rawText = pd.read_excel(excelPath, sheet_name='Sheet1', header=None)\n",
    "rawTextDF = pd.DataFrame(rawText, columns=[0])\n",
    "\n",
    "for index in rawTextDF.index:\n",
    "    rawTextDF[0][index] = \" \".join(rawTextDF[0][index].split())\n",
    "    rawTextDF[0][index] = rawTextDF[0][index].replace('\"',\"'\")\n",
    "    rawTextDF[0][index] = rawTextDF[0][index].replace(\"\\\\\",\" \")\n",
    "    \n",
    "print(rawTextDF[0])"
   ]
  },
  {
   "cell_type": "code",
   "execution_count": 20,
   "id": "3d2367c9",
   "metadata": {},
   "outputs": [
    {
     "name": "stdout",
     "output_type": "stream",
     "text": [
      "          0                     1     2                3            4  \\\n",
      "0  Henry W.  University of London  2020  1 year 5 months  J.P. Morgan   \n",
      "\n",
      "                               5             6                   7  \\\n",
      "0  www.linkedin.com/in/henry-wky  Kuala Lumpur  Bloomberg Terminal   \n",
      "\n",
      "                 8            9  \n",
      "0  Microsoft Excel  Fundraising  \n"
     ]
    }
   ],
   "source": [
    "\n",
    "pd.options.mode.chained_assignment = None  # default='warn'\n",
    "\n",
    "annotationText = pd.read_excel (excelPath, sheet_name='Sheet2', header=None) \n",
    "annotationTextDF = pd.DataFrame(annotationText)\n",
    "\n",
    "# for index in annotationTextDF.index:\n",
    "#     annotationTextDF[2][index] = str(str(annotationTextDF[2][index])[:-2])\n",
    "    \n",
    "# print (str(annotationTextDF[2][0])[:-2])\n",
    "print(annotationTextDF)"
   ]
  },
  {
   "cell_type": "code",
   "execution_count": 21,
   "id": "700e6b11",
   "metadata": {},
   "outputs": [
    {
     "name": "stdout",
     "output_type": "stream",
     "text": [
      "content: Henry W. -startpos: 107 -lastpos: 115\n",
      "content: University of London -startpos: 1190 -lastpos: 1210\n",
      "content: 20 -startpos: 315 -lastpos: 317\n",
      "content: 1 year 5 months -startpos: 331 -lastpos: 346\n",
      "content: J.P. Morgan -startpos: 127 -lastpos: 138\n",
      "content: www.linkedin.com/in/henry-wky -startpos: 8 -lastpos: 37\n",
      "content: Kuala Lumpur -startpos: 161 -lastpos: 173\n",
      "content: Bloomberg Terminal -startpos: 60 -lastpos: 78\n",
      "content: Microsoft Excel -startpos: 79 -lastpos: 94\n",
      "content: Fundraising -startpos: 95 -lastpos: 106\n",
      "['{\"label\":[\"Name\"],\"points\":[{\"start\":107,\"end\":115,\"text\":\"Henry W.\"}]}'\n",
      " '{\"label\":[\"CollegeName\"],\"points\":[{\"start\":1190,\"end\":1210,\"text\":\"University of London\"}]}'\n",
      " '{\"label\":[\"GraduationYear\"],\"points\":[{\"start\":315,\"end\":317,\"text\":\"20\"}]}'\n",
      " '{\"label\":[\"YearsofExperience\"],\"points\":[{\"start\":331,\"end\":346,\"text\":\"1 year 5 months\"}]}'\n",
      " '{\"label\":[\"CompaniesWorkAt\"],\"points\":[{\"start\":127,\"end\":138,\"text\":\"J.P. Morgan\"}]}'\n",
      " '{\"label\":[\"Email\"],\"points\":[{\"start\":8,\"end\":37,\"text\":\"www.linkedin.com/in/henry-wky\"}]}'\n",
      " '{\"label\":[\"Location\"],\"points\":[{\"start\":161,\"end\":173,\"text\":\"Kuala Lumpur\"}]}'\n",
      " '{\"label\":[\"Skills\"],\"points\":[{\"start\":60,\"end\":78,\"text\":\"Bloomberg Terminal\"}]}'\n",
      " '{\"label\":[\"Skills\"],\"points\":[{\"start\":79,\"end\":94,\"text\":\"Microsoft Excel\"}]}'\n",
      " '{\"label\":[\"Skills\"],\"points\":[{\"start\":95,\"end\":106,\"text\":\"Fundraising\"}]}']\n",
      "\n",
      "{\"content\": \"Contact www.linkedin.com/in/henry-wky (LinkedIn) Top Skills Bloomberg Terminal Microsoft Excel Fundraising Henry W. Analyst at J.P. Morgan Federal I erritory of Kuala Lumpur Summary Experienced Analyst with a demonstrated history of working in the financial services industry. Experience J.P. Morgan Analyst August 2020 - Present (1 year 5 months) Kuala Lumpur, Federal Territory of Kuala Lumpur, Malaysia Asia Analyst Development Programme (AADP) 2020 Youth Economic Forum Director July 2020 - March 2021 (9 months) Kuala Lumpur, Federal Territory of Kuala Lumpur, Malaysia Bank Negara Malaysia Gap Year Intern, Monetary Policy Department October 2018 - March 2019 (6 months) Kuala Lumpur, Malaysia Financial Markets and Fiscal Research and Surveillance team Research Project: Market Liquidity in Malaysia KRA Group Summer Analyst July 2018 - September 2018 (3 months) Kuala Lumpur, Malaysia Securities Commission Malaysia Summer Analyst, Economics and Market Analysis Department July 2017 - September 2017 (3 months) rwetia LUi, ivaysia Page 1 of 2 Ministry of Science, Technology and Innovation Perdana Fellow, Minister's Office August 2016 - October 2016 (3 months) Putrajaya Education University of London Bachelor of Science - BS, Economics - (2016 - 2020) Page 2 of 2\",\"annotation\":[{\"label\":[\"Name\"],\"points\":[{\"start\":107,\"end\":115,\"text\":\"Henry W.\"}]},{\"label\":[\"CollegeName\"],\"points\":[{\"start\":1190,\"end\":1210,\"text\":\"University of London\"}]},{\"label\":[\"GraduationYear\"],\"points\":[{\"start\":315,\"end\":317,\"text\":\"20\"}]},{\"label\":[\"YearsofExperience\"],\"points\":[{\"start\":331,\"end\":346,\"text\":\"1 year 5 months\"}]},{\"label\":[\"CompaniesWorkAt\"],\"points\":[{\"start\":127,\"end\":138,\"text\":\"J.P. Morgan\"}]},{\"label\":[\"Email\"],\"points\":[{\"start\":8,\"end\":37,\"text\":\"www.linkedin.com/in/henry-wky\"}]},{\"label\":[\"Location\"],\"points\":[{\"start\":161,\"end\":173,\"text\":\"Kuala Lumpur\"}]},{\"label\":[\"Skills\"],\"points\":[{\"start\":60,\"end\":78,\"text\":\"Bloomberg Terminal\"}]},{\"label\":[\"Skills\"],\"points\":[{\"start\":79,\"end\":94,\"text\":\"Microsoft Excel\"}]},{\"label\":[\"Skills\"],\"points\":[{\"start\":95,\"end\":106,\"text\":\"Fundraising\"}]}]}\n",
      "\n"
     ]
    }
   ],
   "source": [
    "tagging = [\"Name\",\"CollegeName\",\"GraduationYear\",\"YearsofExperience\",\"CompaniesWorkAt\",\"Email\",\"Location\",\"Skills\",\"Skills\",\"Skills\"]\n",
    "\n",
    "import numpy as np\n",
    "profile_array = np.empty((0, len(tagging)), dtype=np.dtype('a300'))\n",
    "\n",
    "\n",
    "for index in rawText.index:\n",
    "    profile_array = np.append(profile_array, np.array([[\"0\" for i in range(len(tagging))]]), axis=0)\n",
    "    for col in annotationText.columns:\n",
    "            line = str(rawTextDF[0][index])\n",
    "            if str(annotationText[col][index]) != 'nan':\n",
    "                search_text = str(annotationText[col][index])\n",
    "                if col == 2:\n",
    "                    search_text = str(annotationText[col][index])[:-2]\n",
    "                try:\n",
    "                    firstIndex = line.index(search_text)\n",
    "                    lastIndex = firstIndex + len(search_text)\n",
    "                    profile_array[index][col] = '{\"label\":[\"' + tagging[col] + '\"],\"points\":[{\"start\":' + str(firstIndex) + ',\"end\":' + str(lastIndex) + ',\"text\":\"' + str(line[firstIndex:lastIndex]) + '\"}]}'\n",
    "                    print(\"content: \" + str(line[firstIndex:lastIndex]) + \" -startpos: \" + str(firstIndex) + \" -lastpos: \" + str(lastIndex))\n",
    "                except:\n",
    "                    print(\"error in finding substring\")\n",
    "\n",
    "    \n",
    "    print(profile_array[index])\n",
    "    print()\n",
    "    # generate json here\n",
    "    json_text = '{\"content\": \"' + rawTextDF[0][index] + '\",\"annotation\":['\n",
    "    \n",
    "    for columns in profile_array[index]:\n",
    "        if columns != \"0\":\n",
    "            json_text = json_text + columns + ','\n",
    "    \n",
    "    json_text = json_text[:-1] + ']}'\n",
    "    print(json_text)\n",
    "    print()\n",
    "    \n",
    "    import json\n",
    "  \n",
    "    with open(r\"C:\\Users\\razor\\Desktop\\NLP Assignment\\NLPoutput.json\", \"a\", encoding=\"utf-8\") as outfile:\n",
    "        outfile.write(json_text)\n",
    "        outfile.write(\"\\n\")"
   ]
  },
  {
   "cell_type": "code",
   "execution_count": null,
   "id": "8337f5e2",
   "metadata": {},
   "outputs": [],
   "source": []
  }
 ],
 "metadata": {
  "kernelspec": {
   "display_name": "Python 3 (ipykernel)",
   "language": "python",
   "name": "python3"
  },
  "language_info": {
   "codemirror_mode": {
    "name": "ipython",
    "version": 3
   },
   "file_extension": ".py",
   "mimetype": "text/x-python",
   "name": "python",
   "nbconvert_exporter": "python",
   "pygments_lexer": "ipython3",
   "version": "3.8.10"
  }
 },
 "nbformat": 4,
 "nbformat_minor": 5
}
