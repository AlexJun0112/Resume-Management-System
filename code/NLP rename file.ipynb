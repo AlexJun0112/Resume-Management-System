{
 "cells": [
  {
   "cell_type": "code",
   "execution_count": 10,
   "id": "99ebc02b",
   "metadata": {},
   "outputs": [],
   "source": [
    "# Pythono3 code to rename multiple\n",
    "# files in a directory or folder\n",
    " \n",
    "# importing os module\n",
    "import os\n",
    " \n",
    "# Function to rename multiple files\n",
    "def main():\n",
    "   \n",
    "    folder = \"C:/Users/razor/Desktop/raw\"\n",
    "    for count, filename in enumerate(os.listdir(folder)):\n",
    "        if count < 10:\n",
    "            sequence = \"000\" + str(count)\n",
    "        elif count < 100:\n",
    "            sequence = \"00\" + str(count)\n",
    "        elif count < 1000:\n",
    "            sequence = \"0\" + str(count)\n",
    "            \n",
    "        dst = f\"json_{sequence}.pdf\"\n",
    "        src =f\"{folder}/{filename}\"  # foldername/filename, if .py file is outside folder\n",
    "        dst =f\"{folder}/{dst}\"\n",
    "         \n",
    "        # rename() function will\n",
    "        # rename all the files\n",
    "        os.rename(src, dst)\n",
    " \n",
    "# Driver Code\n",
    "if __name__ == '__main__':\n",
    "     \n",
    "    # Calling main() function\n",
    "    main()"
   ]
  },
  {
   "cell_type": "code",
   "execution_count": null,
   "id": "a7d0950b",
   "metadata": {},
   "outputs": [],
   "source": []
  }
 ],
 "metadata": {
  "kernelspec": {
   "display_name": "Python 3",
   "language": "python",
   "name": "python3"
  },
  "language_info": {
   "codemirror_mode": {
    "name": "ipython",
    "version": 3
   },
   "file_extension": ".py",
   "mimetype": "text/x-python",
   "name": "python",
   "nbconvert_exporter": "python",
   "pygments_lexer": "ipython3",
   "version": "3.8.8"
  }
 },
 "nbformat": 4,
 "nbformat_minor": 5
}
