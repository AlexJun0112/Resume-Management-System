{
 "cells": [
  {
   "cell_type": "code",
   "execution_count": 30,
   "id": "b7f4ec98-eb68-4f46-bffc-e028d579a614",
   "metadata": {},
   "outputs": [],
   "source": [
    "import pandas as pd\n",
    "path = '../data/YungJunData/NLPoutput.json'\n",
    "data_json = pd.read_json(path, lines = True, encoding=\"utf-8\")"
   ]
  },
  {
   "cell_type": "code",
   "execution_count": 31,
   "id": "216bb328-091c-4c41-b498-c62de6ea522f",
   "metadata": {},
   "outputs": [
    {
     "data": {
      "text/plain": [
       "[{'label': ['Name'],\n",
       "  'points': [{'start': 200, 'end': 212, 'text': 'Jun Wai Chin'}]},\n",
       " {'label': ['CollegeName'],\n",
       "  'points': [{'start': 237,\n",
       "    'end': 274,\n",
       "    'text': 'Tunku Abdul Rahman University College'}]},\n",
       " {'label': ['GraduationYear'],\n",
       "  'points': [{'start': 609, 'end': 613, 'text': '2022'}]},\n",
       " {'label': ['YearsofExperience'],\n",
       "  'points': [{'start': 469, 'end': 477, 'text': '3 months'}]},\n",
       " {'label': ['CompaniesWorkAt'],\n",
       "  'points': [{'start': 399, 'end': 404, 'text': 'Tapod'}]},\n",
       " {'label': ['Location'],\n",
       "  'points': [{'start': 275, 'end': 288, 'text': 'Petaling Jaya'}]},\n",
       " {'label': ['Skills'],\n",
       "  'points': [{'start': 76, 'end': 92, 'text': 'Machine Learning'}]},\n",
       " {'label': ['Skills'], 'points': [{'start': 93, 'end': 99, 'text': 'Python'}]},\n",
       " {'label': ['Skills'],\n",
       "  'points': [{'start': 123, 'end': 131, 'text': 'Teamwork'}]}]"
      ]
     },
     "execution_count": 31,
     "metadata": {},
     "output_type": "execute_result"
    }
   ],
   "source": [
    "data_json.iloc[1].annotation"
   ]
  },
  {
   "cell_type": "code",
   "execution_count": 32,
   "id": "e3746efa-25a2-435f-a460-d422baec8382",
   "metadata": {},
   "outputs": [
    {
     "data": {
      "text/plain": [
       "0    Contact www.linkedin.com/in/hongong (LinkedIn)...\n",
       "1    Contact www.linkedin.com/in/jun-wai- chin-Ob80...\n",
       "2    Contact www.linkedin.com/in/mark-tan-bc (Linke...\n",
       "3    Contact www.linkedin.com/in/lohys68 (LinkedIn)...\n",
       "4    Contact www.linkedin.com/in/adi-zafri- bOba6a1...\n",
       "Name: content, dtype: object"
      ]
     },
     "execution_count": 32,
     "metadata": {},
     "output_type": "execute_result"
    }
   ],
   "source": [
    "data_json[\"content\"] = data_json[\"content\"].apply(lambda x: x.replace(\"\\n\", \" \"))\n",
    "data_json[\"content\"].head(5)"
   ]
  },
  {
   "cell_type": "code",
   "execution_count": 33,
   "id": "c402c308-a18b-48c0-be4e-a649e42ce2b6",
   "metadata": {},
   "outputs": [],
   "source": [
    "# import logging\n",
    "import json\n",
    "import re\n",
    "\n",
    "# JSON formatting functions\n",
    "def convert_dataturks_to_spacy(dataturks_JSON_FilePath):\n",
    "    training_data = []\n",
    "    lines=[]\n",
    "    with open(dataturks_JSON_FilePath, 'r') as f:\n",
    "        lines = f.readlines()\n",
    "\n",
    "    for line in lines:\n",
    "        data = json.loads(line)\n",
    "        text = data['content'].replace(\"\\n\", \" \")\n",
    "        entities = []\n",
    "        data_annotations = data['annotation']\n",
    "        if data_annotations is not None:\n",
    "            for annotation in data_annotations:\n",
    "                #only a single point in text annotation.\n",
    "                point = annotation['points'][0]\n",
    "                labels = annotation['label']\n",
    "                # handle both list of labels or a single label.\n",
    "                if not isinstance(labels, list):\n",
    "                    labels = [labels]\n",
    "\n",
    "                for label in labels:\n",
    "                    point_start = point['start']\n",
    "                    point_end = point['end']\n",
    "                    point_text = point['text']\n",
    "\n",
    "                    lstrip_diff = len(point_text) - len(point_text.lstrip())\n",
    "                    rstrip_diff = len(point_text) - len(point_text.rstrip())\n",
    "                    if lstrip_diff != 0:\n",
    "                        point_start = point_start + lstrip_diff\n",
    "                    if rstrip_diff != 0:\n",
    "                        point_end = point_end - rstrip_diff\n",
    "                    entities.append((point_start, point_end + 1 , label))\n",
    "        training_data.append((text, {\"entities\" : entities}))\n",
    "    return training_data\n",
    "\n",
    "def trim_entity_spans(data: list) -> list:\n",
    "    \"\"\"Removes leading and trailing white spaces from entity spans.\n",
    "\n",
    "    Args:\n",
    "        data (list): The data to be cleaned in spaCy JSON format.\n",
    "\n",
    "    Returns:\n",
    "        list: The cleaned data.\n",
    "    \"\"\"\n",
    "    invalid_span_tokens = re.compile(r'\\s')\n",
    "\n",
    "    cleaned_data = []\n",
    "    for text, annotations in data:\n",
    "        entities = annotations['entities']\n",
    "        valid_entities = []\n",
    "        for start, end, label in entities:\n",
    "            valid_start = start\n",
    "            valid_end = end\n",
    "            while valid_start < len(text) and invalid_span_tokens.match(\n",
    "                    text[valid_start]):\n",
    "                valid_start += 1\n",
    "            while valid_end > 1 and invalid_span_tokens.match(\n",
    "                    text[valid_end - 1]):\n",
    "                valid_end -= 1\n",
    "            valid_entities.append([valid_start, valid_end, label])\n",
    "        cleaned_data.append([text, {'entities': valid_entities}])\n",
    "    return cleaned_data"
   ]
  },
  {
   "cell_type": "code",
   "execution_count": 34,
   "id": "dae29b87-9bdf-4c16-924e-c5962c71af2a",
   "metadata": {},
   "outputs": [
    {
     "data": {
      "text/plain": [
       "['Contact www.linkedin.com/in/jun-wai- chin-Ob806a1 ab (Linked In) Top Skills Machine Learning Python (Programming Language) Teamwork Certifications AWS Academy Graduate - AWS Academy Cloud Foundations Jun Wai Chin Data Science Student at Tunku Abdul Rahman University College Petaling Jaya Summary Have a great passion in Data Engineering, Big Data, ETL, Data Science and Machine Learning Experience Tapod Mobile Application Developer Intern February 2020 - April 2020 (3 months) Selangor, Malaysia Education Tunku Abdul Rahman University College Bachelor of Computer Science, Data Science * (June 2020 - July 2022) Tunku Abdul Rahman University College Diploma in Science, Mathematics and Computer Science (May 2018 - June 2020) Page 1 of 1',\n",
       " {'entities': [[200, 212, 'Name'],\n",
       "   [237, 274, 'CollegeName'],\n",
       "   [609, 614, 'GraduationYear'],\n",
       "   [469, 478, 'YearsofExperience'],\n",
       "   [399, 404, 'CompaniesWorkAt'],\n",
       "   [275, 288, 'Location'],\n",
       "   [76, 92, 'Skills'],\n",
       "   [93, 99, 'Skills'],\n",
       "   [123, 131, 'Skills']]}]"
      ]
     },
     "execution_count": 34,
     "metadata": {},
     "output_type": "execute_result"
    }
   ],
   "source": [
    "data = trim_entity_spans(convert_dataturks_to_spacy(path))\n",
    "data[1]"
   ]
  },
  {
   "cell_type": "code",
   "execution_count": 35,
   "id": "9af01449-31dc-40f3-a231-6cb2e1c2f0da",
   "metadata": {},
   "outputs": [],
   "source": [
    "def clean_entities(training_data):\n",
    "    \n",
    "    clean_data = []\n",
    "    for text, annotation in training_data:\n",
    "        \n",
    "        entities = annotation.get('entities')\n",
    "        entities_copy = entities.copy()\n",
    "        \n",
    "        # append entity only if it is longer than its overlapping entity\n",
    "        i = 0\n",
    "        for entity in entities_copy:\n",
    "            j = 0\n",
    "            for overlapping_entity in entities_copy:\n",
    "                # Skip self\n",
    "                if i != j:\n",
    "                    e_start, e_end, oe_start, oe_end = entity[0], entity[1], overlapping_entity[0], overlapping_entity[1]\n",
    "                    # Delete any entity that overlaps, keep if longer\n",
    "                    if ((e_start >= oe_start and e_start <= oe_end) \\\n",
    "                    or (e_end <= oe_end and e_end >= oe_start)) \\\n",
    "                    and ((e_end - e_start) <= (oe_end - oe_start)):\n",
    "                        entities.remove(entity)\n",
    "                j += 1\n",
    "            i += 1\n",
    "        clean_data.append((text, {'entities': entities}))\n",
    "                \n",
    "    return clean_data\n",
    "\n",
    "data = clean_entities(data)"
   ]
  },
  {
   "cell_type": "code",
   "execution_count": 37,
   "id": "2a45934b-2088-415b-bed0-42c6f2149ca5",
   "metadata": {},
   "outputs": [
    {
     "data": {
      "text/plain": [
       "(\"Contact www.linkedin.com/in/muhammad- hafiz-radzali-480b49117 (LinkedIn) Top Skills Manufacturing Materials Testing Languages Bahasa Melayu (Native or Bilingual) English (Professional Working) Certifications Authorized Gas Tester Authorised entrant and standby person for confined space Muhammad Hafiz Radzali Production Manager at EmeryOleo Specialties (M) Sdn. Bhd. Kiang Summary Production Engineer with 10+ years of experience working in multi-national company and cross-functional team. Wide breadth of knowledge in industrial chemical processes with emphasis on downstream oleochennicals (Oleobasic, Green Polymer Additives and Bio-Lubricant). Have an extensive experience in plant pre- commissioning, commissioning and re-commissioning. A dynamic and motivated engineer with highly concentrated learning curve. Proactive and know how to undertake the most challenging situations. Personal skills and strengths include problem-solving, the ability to clearly define exceptions, communicate effectively and develop a supportive team to accomplish corporate objectives that drive project to successful completion. Experience EmeryOleo Specialties (M) Sdn. Bhd. Production Manager October 2017 - Present (4 years 3 months) Selangor, Ivialaysic Emery Oleochemicals (M) Sdn. Bhd. PROCESS ENGINEER June 2011 - Present (10 years 7 months) Emery Oleochemicals (M) Sdn. Bhd. - Documenting current production procedures and create plant standards to improve plants efficiency and utilization. - Identify and implement continuous improvements to the production processes. - Collaborate with Quality Management Department to identify and implement ongoing quality improvements. Page 1 of 4 - Maintain knowledge and technical expertise of current production, best practices tools and techniques; - Implement them in a reasonable and responsible manner. - Develop and implement production processes for new products, product enhancements and product changes. Install related fixtures and tooling, as required. - Call-off of raw materials in timely matter to avoid production / shipment delays. Responsible for the storage and processing of all raw materials so that yields are achieved in conformance with set standards. - Develop and implement enhanced production testing of products - Minimize overall production costs while maximizing productivity. - Collect, analyze, summarize and present production and process data, information and trends to management. - Create and maintain accurate and current documentation of tool drawings, design concepts and orders, in accordance with the Product Development and Quality Assurance functions. - Source new equipment and material suppliers as required. - Support process on Management of Change (MOC) and related Material Review Board (MRB) activities, as required. - Assist in the evaluation of returned materials/products. - Review internal operational facility layouts for process improvement. - Estimate staffing requirements, production times, and relative costs to provide data for operational decisions and monthly UV monitoring. - Support the Emery Quality System. - Lead, develop and mentor the Production team. - Develop and implement the staff's training and development plans and performance appraisal. Kerry Ingredients (M) Sdn. Bhd PRODUCTION EXECUTIVE October 2010 - May 2011 (8 months) - Call-off of raw materials in timely matter to avoid production / shipment delays. Responsible for the storage and processing of all raw materials so that yields are achieved in conformance with set standards. - Meet delivery time and quality in order to fulfil customer satisfaction. Page 2 of 4 - Maintain standards of housekeeping and sanitation which are consistent with corporate standards. - Effectively manage the work force by managing the staff effectively in production-related areas. - Develop and implement the staffs training and development plans and performance appraisal. - Maintain safety standards consistent with statutory requirements and participate on the Safety Committee. Ensure compliance with the Corporate Safety Policy, safety organization, regulatory and reporting requirements. - Ensure that processing equipment is operated at maximum capacity. Maintain a current knowledge of new developments and modifications, which will bring continued improvement in productivity. - Responsible for the overall wet mix operation: *Ensuring the process and mixing step are followed correctly according to the mixing instruction *Ensuring the traceability for raw material are correct all the time *Maintain the cleanliness of the wet mix area all the time *Ensuring the OPRP program for wet mix operation are followed *Ensuring the wet mix line are always ready for production with completion of CIP process, sanitizer, hot water flushing and ATP inspection - Presents accurate and timely production data in a form for Management use. - To perform any task assign by the superior from time to time. Natural Oleochemicals Sdn. Bhd. SENIOR PROCESS ENGINEER August 2006 - September 2010 (4 years 2 months) Natural Oleochemicals Sdn. Bhd. - Supervise and manage plant operation involving various plant processes such as splitting, fractionation, distillation, pre-concentration, evaporation and esterification plant. - Supervise, coordinate and lead operations team consisting of plant supervisor, technicians and plant operators in daily plant operations. - Monitor performance, quality and reliability of process, material, machinery and equipment. - Perform root cause analysis and troubleshooting, provide corrective and preventive actions for any issues. - Maintain and ensure that ISO 9001, OSHAS 18001, GMP/HACCP and customer requirement were Page 3 of 4 effectively carried out across the plant in order to achieve zero incident and good product quality. - Monitor plant utilities usage and production profit/loss by establish a monthly costing plant operation. - Schedule the workforce/manpower during start up, shut down and plant stoppage. - Develop any opportunity for continuous improvement from time to time. - Responsible for house-keeping around plant area. - Monitor and control all the reprocess material Education Sekolah Menengah Sains Sultan Muhammad Jiwa High School, Sains Tulen * (2007 - 2008) Universiti Teknologi Malaysia Bachelor's Degree, Chemical Engineering * (2001 - 2005) Page 4 of 4\",\n",
       " {'entities': [[287, 309, 'Name'],\n",
       "   [6188, 6231, 'CollegeName'],\n",
       "   [6267, 6272, 'GraduationYear'],\n",
       "   [1208, 1225, 'YearsofExperience'],\n",
       "   [332, 367, 'CompaniesWorkAt'],\n",
       "   [8, 61, 'Email'],\n",
       "   [84, 97, 'Skills'],\n",
       "   [98, 107, 'Skills'],\n",
       "   [108, 115, 'Skills']]})"
      ]
     },
     "execution_count": 37,
     "metadata": {},
     "output_type": "execute_result"
    }
   ],
   "source": [
    "data[99]"
   ]
  },
  {
   "cell_type": "code",
   "execution_count": null,
   "id": "0504597e-567a-4b2f-96e9-02d02ca8a6cf",
   "metadata": {},
   "outputs": [],
   "source": []
  }
 ],
 "metadata": {
  "kernelspec": {
   "display_name": "Python 3",
   "language": "python",
   "name": "python3"
  },
  "language_info": {
   "codemirror_mode": {
    "name": "ipython",
    "version": 3
   },
   "file_extension": ".py",
   "mimetype": "text/x-python",
   "name": "python",
   "nbconvert_exporter": "python",
   "pygments_lexer": "ipython3",
   "version": "3.8.8"
  }
 },
 "nbformat": 4,
 "nbformat_minor": 5
}
