{
 "cells": [
  {
   "cell_type": "code",
   "execution_count": 1,
   "id": "bottom-straight",
   "metadata": {},
   "outputs": [],
   "source": [
    "import spacy\n",
    "import random\n",
    "import pandas as pd\n",
    "from spacy.gold import GoldParse\n",
    "from spacy.scorer import Scorer\n",
    "from tabulate import tabulate\n",
    "import matplotlib.pyplot as plt"
   ]
  },
  {
   "cell_type": "code",
   "execution_count": 2,
   "id": "cardiovascular-bailey",
   "metadata": {},
   "outputs": [],
   "source": [
    "data_json = pd.read_json('../data/YungJunData/NLPoutput.json', lines = True)"
   ]
  },
  {
   "cell_type": "code",
   "execution_count": 3,
   "id": "distant-accordance",
   "metadata": {},
   "outputs": [
    {
     "data": {
      "text/plain": [
       "0    Contact www.linkedin.com/in/hongong (LinkedIn)...\n",
       "1    Contact www.linkedin.com/in/jun-wai- chin-Ob80...\n",
       "2    Contact www.linkedin.com/in/mark-tan-bc (Linke...\n",
       "3    Contact www.linkedin.com/in/lohys68 (LinkedIn)...\n",
       "4    Contact www.linkedin.com/in/adi-zafri- bOba6a1...\n",
       "Name: content, dtype: object"
      ]
     },
     "execution_count": 3,
     "metadata": {},
     "output_type": "execute_result"
    }
   ],
   "source": [
    "data_json[\"content\"] = data_json[\"content\"].apply(lambda x: x.replace(\"\\n\", \" \"))\n",
    "data_json[\"content\"] = data_json[\"content\"].apply(lambda x: x.lower())\n",
    "data_json[\"content\"].head(5)"
   ]
  },
  {
   "cell_type": "code",
   "execution_count": 4,
   "id": "quantitative-blocking",
   "metadata": {
    "scrolled": true
   },
   "outputs": [
    {
     "data": {
      "text/plain": [
       "\"Contact www.linkedin.com/in/hongong (LinkedIn) Top Skills High Performance Computing Operating Systems Fault Tolerance Languages Bahasa Melayu (Malay) (Limited Working) English (Full Professional) Chinese (Professional Working) Certifications Design Thinking Bootcamp Competing on Business Analytics and Big Data Hong H. Ong Head of Data Science and Analytics I Data Strategy, Innovation & Transformation I Build intelligent enterprise powered with data-driven analytics RLAthich Lumpur Summary I have two decades of data intensive computing experience. I am passionate about applying data strategy together with business driven technology to solve industrial problems. I have a strong record of success in leading, managing and delivering top tier innovative technology to align and achieve organisation needs and goals. I am currently the Head of Data Science and Analytics at Central Bank of Malaysia where I lead a team of data scientists and machine learning engineers responsible to provide advance analytics in the Bank. Prior to the Bank, I worked at MIMOS Berhad, Malaysia's national Applied R&D institute, where I led data vision and products roadmap for Artificial Intelligence, Data-intensive analytics, and Cloud laaS & PaaS technologies. My early work experiences was in computational science and High Performance Computing (H PC) system runtime software and architecture at a prestigious US national laboratory to support groundbreaking scientific discoveries. I hold a Ph.D. in Computer Science from UK and B.S and M.S in Computer Science from US. I frequently speak at international conferences, and contributed extensively to the industry through 52 filed patents, 2 book chapters and 80 refereed papers. Apart from my day job, I am serving as Industry Advisor to Universities and Advisory Consultant to public and private sectors. In my spare time, beside spending quality time with my family, I enjoy learning about emerging technologies and various intelligent systems, particularly in the area of HPC and Machine Learning, and thinking about their applicability in private/public sectors and their social impacts. Specialties: Page 1 of 4 * High Performance Computing * Cloud and Big Data Analytic Technologies * Artificial Intelligence Technologies * IT Strategy & Technology Operations * Business Strategic and Data-Driven Decision Making * Project/Program Management Experience Central Banking Services Bank Negara Malaysia Head of Data Science and Analytics September 2020 - Present (1 year 4 months) Kuala Lumpur, Federal Territory of Kuala Lumpur, Malaysia I manage the data science & machine learning team at Central Bank of Malaysia that works on a broad range of problems, including monetary stability, financial stability, prudential supervisory and regulation, organisational analytics, and more. As a data leader, I lead the team's strategy & growth, along with engaging on the deep technical content the team is driving. As a team, we drive the data science and analytics vision in the Bank, which spans across strategy, people, processes and technology in supporting the Bank's move towards becoming a data and insight-driven organisation. MIMOS Berhad 7 years 11 months Senior Director, Corporate Technology June 2015 - August 2020 (5 years 3 months) Kuala Lumpur, Malaysia During my tenure here, I headed three departments, namely Advanced Computing Lab (ACL), Accelerative Technology Lab (ATL), and Artificial Intelligence Lab (AIL). ACL is recognized as particularly strong in the areas of system software and architecture. We investigate these areas in the context of emerging computing paradigms such as cloud computing, mobile computing, data- intensive computing, and edge computing, and explore their utilisation in supporting enterprise applications. Currently focusing on using lean virtualisation technologies to manage Internet-of-Things (loTs) applications at the network edge. For storage area, our work focus on data protection and availability, long-term data preservation, and storage optimization. As for Page 2 of 4 network virtualization, we focus on cloud-based network policy and security. Since 2012, we have developed and deployed our cloud and storage platforms to public and private sectors. ATL investigates the use of Accelerators such as Graphics Processing Units (GPUs) and Field Programmable Gate Arrays (FPGAs) for industrial and scientific applications. We applied the state-of-the-art of parallel computational algorithms and implemented them as libraries, interfaces, or accelerative components. Since 2012, ATL has developed and deployed to industries including GPU Graph/Text Analytics, GPU Image Processing for Multi-Video Analytic, GPU SQL query Accelerator, and GPU Accelerated Library (Mi- AccLib). AIL focuses on Artificial Intelligence technology to develop high performance Intelligent Big Data Analytics. The R&D team applies Data Science and Knowledge Science technologies like Machine Learning, Semantic Technology, large scale Graph Analytics, and Natural Language Processing for deriving insights from the unstructured and structured data. We have been applied the technology to Domain Knowledge Management, Enterprise Performance Management, Online Analytical Processing, Predictive Analytics and Prescriptive Analytics. Director October 2012 - May 2015 (2 years 8 months) eManual System Sdn Bhd Chief Technology Officer April 2012 - September 2012 (6 months) Kuala Lui „i i.L.k.Aia Lumpur, Malaysk. , y Developed the innovation framework to meet business objectives. Developed the company's go-to-market strategy. MIMOS Berhad Principal Researcher June 2010 - March 2012 (1 year 10 months) Applied R&D in broad aspects of reliability and security in distributed systems, particularly in Infrastructure-as-a-service. Direct report to Chief Technology Officer. Oak Ridge National Laboratory (ORNL) Sr. HPC Research Scientist Page 3 of 4 April 2005 - August 2009 (4 years 5 months) Conducted R&D to determine the best way to approach system tools and libraries as well as recommending the best path forward for application and system resiliency development on petascale computers Conducted R&D into cluster computing techniques, tools, algorithms, and high- performance networking hardware. University of Portsmouth Post-Doctoral Research Associate November 2003 - March 2005 (1 year 5 months) Conducted R&D in the area of resource management for distributed computing. Deployed and maintained the UK e-Science OGSA Grid Testbed infrastructure Education University of Portsmouth Ph.D, Computer Science - (2001 - 2004) Kent State University M.Sc, Computer Science - (1996 - 1999) Kent State University B. Sc, Computer Science * (1991 - 1996) Page 4 of 4\""
      ]
     },
     "execution_count": 4,
     "metadata": {},
     "output_type": "execute_result"
    }
   ],
   "source": [
    "data_json[\"content\"][0]"
   ]
  },
  {
   "cell_type": "code",
   "execution_count": 5,
   "id": "completed-positive",
   "metadata": {
    "scrolled": true
   },
   "outputs": [
    {
     "data": {
      "text/plain": [
       "[{'label': ['Name'],\n",
       "  'points': [{'start': 313, 'end': 324, 'text': 'Hong H. Ong'}]},\n",
       " {'label': ['CollegeName'],\n",
       "  'points': [{'start': 6276,\n",
       "    'end': 6300,\n",
       "    'text': 'University of Portsmouth'}]},\n",
       " {'label': ['GraduationYear'],\n",
       "  'points': [{'start': 6597, 'end': 6601, 'text': '2004'}]},\n",
       " {'label': ['YearsofExperience'],\n",
       "  'points': [{'start': 2510, 'end': 2525, 'text': '1 year 4 months'}]},\n",
       " {'label': ['CompaniesWorkAt'],\n",
       "  'points': [{'start': 2403,\n",
       "    'end': 2448,\n",
       "    'text': 'Central Banking Services Bank Negara Malaysia'}]},\n",
       " {'label': ['Email'],\n",
       "  'points': [{'start': 8, 'end': 35, 'text': 'www.linkedin.com/in/hongong'}]},\n",
       " {'label': ['Location'],\n",
       "  'points': [{'start': 2527, 'end': 2539, 'text': 'Kuala Lumpur'}]},\n",
       " {'label': ['Skills'],\n",
       "  'points': [{'start': 58, 'end': 84, 'text': 'High Performance Computing'}]},\n",
       " {'label': ['Skills'],\n",
       "  'points': [{'start': 85, 'end': 102, 'text': 'Operating Systems'}]},\n",
       " {'label': ['Skills'],\n",
       "  'points': [{'start': 103, 'end': 118, 'text': 'Fault Tolerance'}]}]"
      ]
     },
     "execution_count": 5,
     "metadata": {},
     "output_type": "execute_result"
    }
   ],
   "source": [
    "data_json.iloc[0].annotation"
   ]
  },
  {
   "cell_type": "code",
   "execution_count": 6,
   "id": "communist-pioneer",
   "metadata": {},
   "outputs": [],
   "source": [
    "# import logging\n",
    "import json\n",
    "import re\n",
    "\n",
    "# JSON formatting functions\n",
    "def convert_dataturks_to_spacy(dataturks_JSON_FilePath):\n",
    "    training_data = []\n",
    "    lines=[]\n",
    "    \n",
    "    # read JSON file\n",
    "    with open(dataturks_JSON_FilePath, encoding=\"utf8\") as f:\n",
    "        lines = f.readlines()\n",
    "\n",
    "    for line in lines:\n",
    "        data = json.loads(line)\n",
    "        text = data['content'].replace(\"\\n\", \" \") # remove next line\n",
    "        entities = []\n",
    "        data_annotations = data['annotation']\n",
    "        if data_annotations is not None:\n",
    "            for annotation in data_annotations:\n",
    "                #only a single point in text annotation.\n",
    "                point = annotation['points'][0]\n",
    "                labels = annotation['label']\n",
    "                \n",
    "                # handle both list of labels or a single label.\n",
    "                if not isinstance(labels, list):\n",
    "                    labels = [labels]\n",
    "\n",
    "                for label in labels:\n",
    "                    point_start = point['start']\n",
    "                    point_end = point['end']\n",
    "                    point_text = point['text']\n",
    "\n",
    "                    lstrip_diff = len(point_text) - len(point_text.lstrip())\n",
    "                    rstrip_diff = len(point_text) - len(point_text.rstrip())\n",
    "                    if lstrip_diff != 0:\n",
    "                        point_start = point_start + lstrip_diff\n",
    "                    if rstrip_diff != 0:\n",
    "                        point_end = point_end - rstrip_diff\n",
    "                    #dataturks indices are both inclusive [start, end] but spaCy is not \n",
    "                    entities.append((point_start, point_end + 1 , label)) \n",
    "        training_data.append((text, {\"entities\" : entities}))\n",
    "    return training_data\n",
    "\n",
    "def trim_entity_spans(data: list) -> list:\n",
    "    \"\"\"Removes leading and trailing white spaces from entity spans.\n",
    "\n",
    "    Args:\n",
    "        data (list): The data to be cleaned in spaCy JSON format.\n",
    "\n",
    "    Returns:\n",
    "        list: The cleaned data.\n",
    "    \"\"\"\n",
    "    invalid_span_tokens = re.compile(r'\\s')\n",
    "\n",
    "    cleaned_data = []\n",
    "    for text, annotations in data:\n",
    "        entities = annotations['entities']\n",
    "        valid_entities = []\n",
    "        for start, end, label in entities:\n",
    "            valid_start = start\n",
    "            valid_end = end\n",
    "            while valid_start < len(text) and invalid_span_tokens.match(\n",
    "                    text[valid_start]):\n",
    "                valid_start += 1\n",
    "            while valid_end > 1 and invalid_span_tokens.match(\n",
    "                    text[valid_end - 1]):\n",
    "                valid_end -= 1\n",
    "            valid_entities.append([valid_start, valid_end, label])\n",
    "        cleaned_data.append([text, {'entities': valid_entities}])\n",
    "    return cleaned_data\n",
    "\n",
    "def to_lower(data):\n",
    "    for i in range(len(data)):\n",
    "        data[i][0] = data[i][0].lower()\n",
    "    return data"
   ]
  },
  {
   "cell_type": "code",
   "execution_count": 7,
   "id": "dutch-microphone",
   "metadata": {
    "scrolled": true
   },
   "outputs": [
    {
     "data": {
      "text/plain": [
       "[\"Contact www.linkedin.com/in/hongong (LinkedIn) Top Skills High Performance Computing Operating Systems Fault Tolerance Languages Bahasa Melayu (Malay) (Limited Working) English (Full Professional) Chinese (Professional Working) Certifications Design Thinking Bootcamp Competing on Business Analytics and Big Data Hong H. Ong Head of Data Science and Analytics I Data Strategy, Innovation & Transformation I Build intelligent enterprise powered with data-driven analytics RLAthich Lumpur Summary I have two decades of data intensive computing experience. I am passionate about applying data strategy together with business driven technology to solve industrial problems. I have a strong record of success in leading, managing and delivering top tier innovative technology to align and achieve organisation needs and goals. I am currently the Head of Data Science and Analytics at Central Bank of Malaysia where I lead a team of data scientists and machine learning engineers responsible to provide advance analytics in the Bank. Prior to the Bank, I worked at MIMOS Berhad, Malaysia's national Applied R&D institute, where I led data vision and products roadmap for Artificial Intelligence, Data-intensive analytics, and Cloud laaS & PaaS technologies. My early work experiences was in computational science and High Performance Computing (H PC) system runtime software and architecture at a prestigious US national laboratory to support groundbreaking scientific discoveries. I hold a Ph.D. in Computer Science from UK and B.S and M.S in Computer Science from US. I frequently speak at international conferences, and contributed extensively to the industry through 52 filed patents, 2 book chapters and 80 refereed papers. Apart from my day job, I am serving as Industry Advisor to Universities and Advisory Consultant to public and private sectors. In my spare time, beside spending quality time with my family, I enjoy learning about emerging technologies and various intelligent systems, particularly in the area of HPC and Machine Learning, and thinking about their applicability in private/public sectors and their social impacts. Specialties: Page 1 of 4 * High Performance Computing * Cloud and Big Data Analytic Technologies * Artificial Intelligence Technologies * IT Strategy & Technology Operations * Business Strategic and Data-Driven Decision Making * Project/Program Management Experience Central Banking Services Bank Negara Malaysia Head of Data Science and Analytics September 2020 - Present (1 year 4 months) Kuala Lumpur, Federal Territory of Kuala Lumpur, Malaysia I manage the data science & machine learning team at Central Bank of Malaysia that works on a broad range of problems, including monetary stability, financial stability, prudential supervisory and regulation, organisational analytics, and more. As a data leader, I lead the team's strategy & growth, along with engaging on the deep technical content the team is driving. As a team, we drive the data science and analytics vision in the Bank, which spans across strategy, people, processes and technology in supporting the Bank's move towards becoming a data and insight-driven organisation. MIMOS Berhad 7 years 11 months Senior Director, Corporate Technology June 2015 - August 2020 (5 years 3 months) Kuala Lumpur, Malaysia During my tenure here, I headed three departments, namely Advanced Computing Lab (ACL), Accelerative Technology Lab (ATL), and Artificial Intelligence Lab (AIL). ACL is recognized as particularly strong in the areas of system software and architecture. We investigate these areas in the context of emerging computing paradigms such as cloud computing, mobile computing, data- intensive computing, and edge computing, and explore their utilisation in supporting enterprise applications. Currently focusing on using lean virtualisation technologies to manage Internet-of-Things (loTs) applications at the network edge. For storage area, our work focus on data protection and availability, long-term data preservation, and storage optimization. As for Page 2 of 4 network virtualization, we focus on cloud-based network policy and security. Since 2012, we have developed and deployed our cloud and storage platforms to public and private sectors. ATL investigates the use of Accelerators such as Graphics Processing Units (GPUs) and Field Programmable Gate Arrays (FPGAs) for industrial and scientific applications. We applied the state-of-the-art of parallel computational algorithms and implemented them as libraries, interfaces, or accelerative components. Since 2012, ATL has developed and deployed to industries including GPU Graph/Text Analytics, GPU Image Processing for Multi-Video Analytic, GPU SQL query Accelerator, and GPU Accelerated Library (Mi- AccLib). AIL focuses on Artificial Intelligence technology to develop high performance Intelligent Big Data Analytics. The R&D team applies Data Science and Knowledge Science technologies like Machine Learning, Semantic Technology, large scale Graph Analytics, and Natural Language Processing for deriving insights from the unstructured and structured data. We have been applied the technology to Domain Knowledge Management, Enterprise Performance Management, Online Analytical Processing, Predictive Analytics and Prescriptive Analytics. Director October 2012 - May 2015 (2 years 8 months) eManual System Sdn Bhd Chief Technology Officer April 2012 - September 2012 (6 months) Kuala Lui „i i.L.k.Aia Lumpur, Malaysk. , y Developed the innovation framework to meet business objectives. Developed the company's go-to-market strategy. MIMOS Berhad Principal Researcher June 2010 - March 2012 (1 year 10 months) Applied R&D in broad aspects of reliability and security in distributed systems, particularly in Infrastructure-as-a-service. Direct report to Chief Technology Officer. Oak Ridge National Laboratory (ORNL) Sr. HPC Research Scientist Page 3 of 4 April 2005 - August 2009 (4 years 5 months) Conducted R&D to determine the best way to approach system tools and libraries as well as recommending the best path forward for application and system resiliency development on petascale computers Conducted R&D into cluster computing techniques, tools, algorithms, and high- performance networking hardware. University of Portsmouth Post-Doctoral Research Associate November 2003 - March 2005 (1 year 5 months) Conducted R&D in the area of resource management for distributed computing. Deployed and maintained the UK e-Science OGSA Grid Testbed infrastructure Education University of Portsmouth Ph.D, Computer Science - (2001 - 2004) Kent State University M.Sc, Computer Science - (1996 - 1999) Kent State University B. Sc, Computer Science * (1991 - 1996) Page 4 of 4\",\n",
       " {'entities': [[313, 324, 'Name'],\n",
       "   [6276, 6300, 'CollegeName'],\n",
       "   [6597, 6602, 'GraduationYear'],\n",
       "   [2510, 2526, 'YearsofExperience'],\n",
       "   [2403, 2448, 'CompaniesWorkAt'],\n",
       "   [8, 35, 'Email'],\n",
       "   [2527, 2540, 'Location'],\n",
       "   [58, 84, 'Skills'],\n",
       "   [85, 102, 'Skills'],\n",
       "   [103, 118, 'Skills']]}]"
      ]
     },
     "execution_count": 7,
     "metadata": {},
     "output_type": "execute_result"
    }
   ],
   "source": [
    "data = trim_entity_spans(convert_dataturks_to_spacy(\"../NLPoutput.json\"))\n",
    "data = to_lower(data)\n",
    "data[0]"
   ]
  },
  {
   "cell_type": "markdown",
   "id": "afraid-package",
   "metadata": {},
   "source": [
    "### Split into train and test data"
   ]
  },
  {
   "cell_type": "code",
   "execution_count": 13,
   "id": "graphic-template",
   "metadata": {},
   "outputs": [],
   "source": [
    "train_data = data[:80]\n",
    "test_data = data[-20:]"
   ]
  },
  {
   "cell_type": "markdown",
   "id": "attempted-momentum",
   "metadata": {},
   "source": [
    "### Training"
   ]
  },
  {
   "cell_type": "code",
   "execution_count": 10,
   "id": "adjustable-accountability",
   "metadata": {},
   "outputs": [],
   "source": [
    "import warnings\n",
    "from spacy.util import minibatch, compounding\n",
    "# Number of Iteration \n",
    "no_itr = 150\n",
    "\n",
    "#Create blank english model\n",
    "nlp = spacy.blank('en') \n",
    "\n",
    "# Visualization\n",
    "x_axis = []\n",
    "y_axis = []\n",
    "\n",
    "def train_model(train_data, test_data):\n",
    "    \n",
    "    # set up the pipeline\n",
    "    if 'ner' not in nlp.pipe_names:\n",
    "        ner = nlp.create_pipe('ner')\n",
    "        nlp.add_pipe(ner, last = True) # ner component is added last in the pipeline (default).\n",
    "        \n",
    "    #add label\n",
    "    for _, annotation in train_data:\n",
    "        for ent in annotation['entities']:\n",
    "            ner.add_label(ent[2]) #e.g. Location, Name... total 8\n",
    "    \n",
    "    # disable other pipeline components (tagger & parser) during training except ner\n",
    "    other_pipes = [pipe for pipe in nlp.pipe_names if pipe != 'ner']\n",
    "    with nlp.disable_pipes(*other_pipes), warnings.catch_warnings():\n",
    "        warnings.filterwarnings(\"ignore\", message=r\"\\[W030\\]\", category=UserWarning)\n",
    "        \n",
    "        optimizer = nlp.begin_training()\n",
    "        \n",
    "        for itn in range(no_itr):\n",
    "            print(\"Starting iteration \" + str(itn))\n",
    "            random.shuffle(train_data)\n",
    "            # This will ensure the model does not make generalizations based on the order of the train data.\n",
    "            losses = {}\n",
    "            \n",
    "            batches = minibatch(train_data, size=compounding(4.0, 32.0, 1.001))\n",
    "            for batch in batches:\n",
    "                texts, annotations = zip(*batch)\n",
    "                nlp.update(texts, annotations, sgd=optimizer, drop=0.2,\n",
    "                           losses=losses)\n",
    "                #dropout - prevent overfitting\n",
    "            print('Losses', losses)\n",
    "            y_axis.append(losses)\n",
    "            x_axis.append(itn) \n",
    "    \n",
    "    # Save model\n",
    "    nlp.to_disk('nlp_model')\n",
    "    print(\"Done updating spacy model...\")"
   ]
  },
  {
   "cell_type": "code",
   "execution_count": 13,
   "id": "crucial-stability",
   "metadata": {
    "scrolled": true
   },
   "outputs": [
    {
     "name": "stderr",
     "output_type": "stream",
     "text": [
      "/home/john/.virtualenvs/resume/lib/python3.7/site-packages/spacy/language.py:639: UserWarning: [W033] Training a new parser or NER using a model with an empty lexeme normalization table. This may degrade the performance to some degree. If this is intentional or this language doesn't have a normalization table, please ignore this warning.\n",
      "  **kwargs\n",
      "/home/john/.virtualenvs/resume/lib/python3.7/site-packages/spacy/language.py:639: UserWarning: [W034] Please install the package spacy-lookups-data in order to include the default lexeme normalization table for the language 'en'.\n",
      "  **kwargs\n"
     ]
    },
    {
     "name": "stdout",
     "output_type": "stream",
     "text": [
      "Starting iteration 0\n",
      "Losses {'ner': 10352.60327967961}\n",
      "Starting iteration 1\n",
      "Losses {'ner': 1917.7824279186316}\n",
      "Starting iteration 2\n",
      "Losses {'ner': 2006.4544007694349}\n",
      "Starting iteration 3\n",
      "Losses {'ner': 1858.4461970782722}\n",
      "Starting iteration 4\n",
      "Losses {'ner': 5226.999631678453}\n",
      "Starting iteration 5\n",
      "Losses {'ner': 3839.394824033603}\n",
      "Starting iteration 6\n",
      "Losses {'ner': 3619.1677800545003}\n",
      "Starting iteration 7\n",
      "Losses {'ner': 3515.9647508030757}\n",
      "Starting iteration 8\n",
      "Losses {'ner': 3115.2000612281263}\n",
      "Starting iteration 9\n",
      "Losses {'ner': 4633.185983255506}\n",
      "Starting iteration 10\n",
      "Losses {'ner': 4246.253510306822}\n",
      "Starting iteration 11\n",
      "Losses {'ner': 3135.5828370414674}\n",
      "Starting iteration 12\n",
      "Losses {'ner': 2265.460158109665}\n",
      "Starting iteration 13\n",
      "Losses {'ner': 2565.8377981265658}\n",
      "Starting iteration 14\n",
      "Losses {'ner': 3496.569674322498}\n",
      "Starting iteration 15\n",
      "Losses {'ner': 1881.2214275656443}\n",
      "Starting iteration 16\n",
      "Losses {'ner': 1503.6883390586736}\n",
      "Starting iteration 17\n",
      "Losses {'ner': 1120.2480597664653}\n",
      "Starting iteration 18\n",
      "Losses {'ner': 967.722084667832}\n",
      "Starting iteration 19\n",
      "Losses {'ner': 944.2652978436377}\n",
      "Starting iteration 20\n",
      "Losses {'ner': 791.4395744383692}\n",
      "Starting iteration 21\n",
      "Losses {'ner': 809.7316737390865}\n",
      "Starting iteration 22\n",
      "Losses {'ner': 861.4110774208166}\n",
      "Starting iteration 23\n",
      "Losses {'ner': 921.4514137678755}\n",
      "Starting iteration 24\n",
      "Losses {'ner': 555.9430305912517}\n",
      "Starting iteration 25\n",
      "Losses {'ner': 550.0044360292809}\n",
      "Starting iteration 26\n",
      "Losses {'ner': 430.47481735350453}\n",
      "Starting iteration 27\n",
      "Losses {'ner': 414.0066982280863}\n",
      "Starting iteration 28\n",
      "Losses {'ner': 344.8608946638095}\n",
      "Starting iteration 29\n",
      "Losses {'ner': 362.1677844583174}\n",
      "Starting iteration 30\n",
      "Losses {'ner': 302.4574752140955}\n",
      "Starting iteration 31\n",
      "Losses {'ner': 263.98483194508105}\n",
      "Starting iteration 32\n",
      "Losses {'ner': 246.40874369094388}\n",
      "Starting iteration 33\n",
      "Losses {'ner': 212.09896850751002}\n",
      "Starting iteration 34\n",
      "Losses {'ner': 232.855331107668}\n",
      "Starting iteration 35\n",
      "Losses {'ner': 185.23200996044287}\n",
      "Starting iteration 36\n",
      "Losses {'ner': 200.99757017885554}\n",
      "Starting iteration 37\n",
      "Losses {'ner': 152.84076427649273}\n",
      "Starting iteration 38\n",
      "Losses {'ner': 185.34591230516574}\n",
      "Starting iteration 39\n",
      "Losses {'ner': 182.32245430723682}\n",
      "Starting iteration 40\n",
      "Losses {'ner': 182.6115858191226}\n",
      "Starting iteration 41\n",
      "Losses {'ner': 115.7954123982915}\n",
      "Starting iteration 42\n",
      "Losses {'ner': 123.57451294791177}\n",
      "Starting iteration 43\n",
      "Losses {'ner': 120.97176782012849}\n",
      "Starting iteration 44\n",
      "Losses {'ner': 125.81039239184925}\n",
      "Starting iteration 45\n",
      "Losses {'ner': 85.47435720955461}\n",
      "Starting iteration 46\n",
      "Losses {'ner': 124.60279458543026}\n",
      "Starting iteration 47\n",
      "Losses {'ner': 75.91766304487915}\n",
      "Starting iteration 48\n",
      "Losses {'ner': 111.11798113382017}\n",
      "Starting iteration 49\n",
      "Losses {'ner': 92.45909703166258}\n",
      "Starting iteration 50\n",
      "Losses {'ner': 104.75629929317982}\n",
      "Starting iteration 51\n",
      "Losses {'ner': 112.47788527388283}\n",
      "Starting iteration 52\n",
      "Losses {'ner': 160.80238729649588}\n",
      "Starting iteration 53\n",
      "Losses {'ner': 86.44821619860487}\n",
      "Starting iteration 54\n",
      "Losses {'ner': 91.21723881474131}\n",
      "Starting iteration 55\n",
      "Losses {'ner': 58.08395803692742}\n",
      "Starting iteration 56\n",
      "Losses {'ner': 53.170375270554985}\n",
      "Starting iteration 57\n",
      "Losses {'ner': 80.90909710531108}\n",
      "Starting iteration 58\n",
      "Losses {'ner': 108.84634779953971}\n",
      "Starting iteration 59\n",
      "Losses {'ner': 106.08231033984201}\n",
      "Starting iteration 60\n",
      "Losses {'ner': 79.14422658069515}\n",
      "Starting iteration 61\n",
      "Losses {'ner': 64.69227081987502}\n",
      "Starting iteration 62\n",
      "Losses {'ner': 68.21087715561242}\n",
      "Starting iteration 63\n",
      "Losses {'ner': 71.87343548265412}\n",
      "Starting iteration 64\n",
      "Losses {'ner': 55.72489972789165}\n",
      "Starting iteration 65\n",
      "Losses {'ner': 68.63725110715265}\n",
      "Starting iteration 66\n",
      "Losses {'ner': 72.00427327238708}\n",
      "Starting iteration 67\n",
      "Losses {'ner': 69.19392764574611}\n",
      "Starting iteration 68\n",
      "Losses {'ner': 64.54066216249194}\n",
      "Starting iteration 69\n",
      "Losses {'ner': 68.96455805304167}\n",
      "Starting iteration 70\n",
      "Losses {'ner': 88.66427932885759}\n",
      "Starting iteration 71\n",
      "Losses {'ner': 48.294349701131104}\n",
      "Starting iteration 72\n",
      "Losses {'ner': 46.29755451089621}\n",
      "Starting iteration 73\n",
      "Losses {'ner': 56.71194348152538}\n",
      "Starting iteration 74\n",
      "Losses {'ner': 40.202718111972445}\n",
      "Starting iteration 75\n",
      "Losses {'ner': 45.895710403250305}\n",
      "Starting iteration 76\n",
      "Losses {'ner': 43.76114234489362}\n",
      "Starting iteration 77\n",
      "Losses {'ner': 26.377670048791927}\n",
      "Starting iteration 78\n",
      "Losses {'ner': 49.918220379612805}\n",
      "Starting iteration 79\n",
      "Losses {'ner': 49.61844180898831}\n",
      "Starting iteration 80\n",
      "Losses {'ner': 41.078143437612766}\n",
      "Starting iteration 81\n",
      "Losses {'ner': 64.8090774451103}\n",
      "Starting iteration 82\n",
      "Losses {'ner': 50.77038129991838}\n",
      "Starting iteration 83\n",
      "Losses {'ner': 65.19099731733242}\n",
      "Starting iteration 84\n",
      "Losses {'ner': 69.73937113867348}\n",
      "Starting iteration 85\n",
      "Losses {'ner': 44.890100898377256}\n",
      "Starting iteration 86\n",
      "Losses {'ner': 31.368082778146437}\n",
      "Starting iteration 87\n",
      "Losses {'ner': 35.5000862042851}\n",
      "Starting iteration 88\n",
      "Losses {'ner': 62.6699414279069}\n",
      "Starting iteration 89\n",
      "Losses {'ner': 30.770085901716826}\n",
      "Starting iteration 90\n",
      "Losses {'ner': 41.69384531591828}\n",
      "Starting iteration 91\n",
      "Losses {'ner': 42.418956144440116}\n",
      "Starting iteration 92\n",
      "Losses {'ner': 84.23880713233862}\n",
      "Starting iteration 93\n",
      "Losses {'ner': 71.52849274233101}\n",
      "Starting iteration 94\n",
      "Losses {'ner': 48.99466377520859}\n",
      "Starting iteration 95\n",
      "Losses {'ner': 76.26643344430062}\n",
      "Starting iteration 96\n",
      "Losses {'ner': 55.00732019887583}\n",
      "Starting iteration 97\n",
      "Losses {'ner': 45.875512675155605}\n",
      "Starting iteration 98\n",
      "Losses {'ner': 42.05769007917345}\n",
      "Starting iteration 99\n",
      "Losses {'ner': 45.483992344880875}\n",
      "Starting iteration 100\n",
      "Losses {'ner': 38.628304495757206}\n",
      "Starting iteration 101\n",
      "Losses {'ner': 57.31351078386422}\n",
      "Starting iteration 102\n",
      "Losses {'ner': 44.647731075408835}\n",
      "Starting iteration 103\n",
      "Losses {'ner': 27.5090721040464}\n",
      "Starting iteration 104\n",
      "Losses {'ner': 24.204433530255287}\n",
      "Starting iteration 105\n",
      "Losses {'ner': 32.740218266896505}\n",
      "Starting iteration 106\n",
      "Losses {'ner': 31.792066223705604}\n",
      "Starting iteration 107\n",
      "Losses {'ner': 26.265321260332783}\n",
      "Starting iteration 108\n",
      "Losses {'ner': 25.79587867433684}\n",
      "Starting iteration 109\n",
      "Losses {'ner': 42.989432962264175}\n",
      "Starting iteration 110\n",
      "Losses {'ner': 37.61035154903392}\n",
      "Starting iteration 111\n",
      "Losses {'ner': 29.850071547893663}\n",
      "Starting iteration 112\n",
      "Losses {'ner': 35.51143605156374}\n",
      "Starting iteration 113\n",
      "Losses {'ner': 35.36854176124869}\n",
      "Starting iteration 114\n",
      "Losses {'ner': 34.71456531794462}\n",
      "Starting iteration 115\n",
      "Losses {'ner': 40.51464671453454}\n",
      "Starting iteration 116\n",
      "Losses {'ner': 28.849729521021438}\n",
      "Starting iteration 117\n",
      "Losses {'ner': 64.29276084341562}\n",
      "Starting iteration 118\n",
      "Losses {'ner': 27.088137040824154}\n",
      "Starting iteration 119\n",
      "Losses {'ner': 14.738973168097992}\n",
      "Starting iteration 120\n",
      "Losses {'ner': 24.57215264719752}\n",
      "Starting iteration 121\n",
      "Losses {'ner': 39.88425538171431}\n",
      "Starting iteration 122\n",
      "Losses {'ner': 23.66158918588064}\n",
      "Starting iteration 123\n",
      "Losses {'ner': 18.8157156618148}\n",
      "Starting iteration 124\n",
      "Losses {'ner': 43.38492168117406}\n",
      "Starting iteration 125\n",
      "Losses {'ner': 29.6401860647395}\n",
      "Starting iteration 126\n",
      "Losses {'ner': 44.51591683743594}\n",
      "Starting iteration 127\n",
      "Losses {'ner': 30.27626759423203}\n",
      "Starting iteration 128\n",
      "Losses {'ner': 29.31610339313615}\n",
      "Starting iteration 129\n",
      "Losses {'ner': 39.32699493793427}\n",
      "Starting iteration 130\n",
      "Losses {'ner': 22.72529547021534}\n",
      "Starting iteration 131\n",
      "Losses {'ner': 25.608645329469546}\n",
      "Starting iteration 132\n",
      "Losses {'ner': 33.82736737004597}\n",
      "Starting iteration 133\n",
      "Losses {'ner': 21.943235250637528}\n",
      "Starting iteration 134\n",
      "Losses {'ner': 11.692811656764599}\n",
      "Starting iteration 135\n",
      "Losses {'ner': 15.420215080666933}\n",
      "Starting iteration 136\n",
      "Losses {'ner': 20.94632904349763}\n",
      "Starting iteration 137\n",
      "Losses {'ner': 27.663362536572183}\n",
      "Starting iteration 138\n",
      "Losses {'ner': 42.8419799606741}\n",
      "Starting iteration 139\n",
      "Losses {'ner': 22.424199583470433}\n",
      "Starting iteration 140\n",
      "Losses {'ner': 35.95893777845534}\n",
      "Starting iteration 141\n",
      "Losses {'ner': 42.513062259104814}\n",
      "Starting iteration 142\n",
      "Losses {'ner': 15.376446856133013}\n",
      "Starting iteration 143\n",
      "Losses {'ner': 9.878662014760767}\n",
      "Starting iteration 144\n",
      "Losses {'ner': 18.223254138367917}\n",
      "Starting iteration 145\n",
      "Losses {'ner': 29.248397376015664}\n",
      "Starting iteration 146\n",
      "Losses {'ner': 14.68124329330798}\n",
      "Starting iteration 147\n",
      "Losses {'ner': 40.74809735541692}\n",
      "Starting iteration 148\n",
      "Losses {'ner': 34.53521451919115}\n",
      "Starting iteration 149\n",
      "Losses {'ner': 33.72112987728956}\n",
      "Done updating spacy model...\n"
     ]
    }
   ],
   "source": [
    "train_model(train_data, test_data)"
   ]
  },
  {
   "cell_type": "code",
   "execution_count": 14,
   "id": "progressive-moral",
   "metadata": {
    "scrolled": true
   },
   "outputs": [
    {
     "data": {
      "image/png": "[encoded data removed]",
      "text/plain": [
       "<Figure size 432x288 with 1 Axes>"
      ]
     },
     "metadata": {
      "needs_background": "light"
     },
     "output_type": "display_data"
    }
   ],
   "source": [
    "loss = []\n",
    "for i in range(len(y_axis)):\n",
    "    loss.append(y_axis[i]['ner'])\n",
    "plt.plot(x_axis, loss)\n",
    "plt.title(\"Training Losses over Iteration\")\n",
    "plt.xlabel(\"Iterations\")\n",
    "plt.ylabel(\"Losses\")\n",
    "plt.show()"
   ]
  },
  {
   "cell_type": "markdown",
   "id": "impaired-steam",
   "metadata": {},
   "source": [
    "### Test Trained Model"
   ]
  },
  {
   "cell_type": "code",
   "execution_count": 58,
   "id": "grand-mexican",
   "metadata": {
    "scrolled": true
   },
   "outputs": [],
   "source": [
    "# # test the trained model\n",
    "# for text, _ in test_data:\n",
    "#     doc = nlp(text)\n",
    "#     print('Entities', [(ent.text, ent.label_) for ent in doc.ents])\n",
    "#     print('Tokens', [(t.text, t.ent_type_, t.ent_iob) for t in doc])"
   ]
  },
  {
   "cell_type": "markdown",
   "id": "veterinary-martial",
   "metadata": {},
   "source": [
    "### Load the Model"
   ]
  },
  {
   "cell_type": "code",
   "execution_count": 11,
   "id": "lightweight-clark",
   "metadata": {},
   "outputs": [],
   "source": [
    "nlp_model = spacy.load('nlp_model')"
   ]
  },
  {
   "cell_type": "markdown",
   "id": "studied-thinking",
   "metadata": {},
   "source": [
    "### Model Evaluation"
   ]
  },
  {
   "cell_type": "code",
   "execution_count": 14,
   "id": "continental-turtle",
   "metadata": {
    "scrolled": true
   },
   "outputs": [
    {
     "name": "stderr",
     "output_type": "stream",
     "text": [
      "/home/john/.virtualenvs/resume/lib/python3.7/site-packages/ipykernel_launcher.py:7: UserWarning: [W030] Some entities could not be aligned in the text \"Contact www.linkedin.com/in/muhammad- zamir-763232...\" with entities \"[[286, 300, 'Name'], [1507, 1532, 'CollegeName'], ...\". Use `spacy.gold.biluo_tags_from_offsets(nlp.make_doc(text), entities)` to check the alignment. Misaligned entities (with BILUO tag '-') will be ignored during training.\n",
      "  import sys\n"
     ]
    },
    {
     "data": {
      "text/plain": [
       "{'uas': 0.0,\n",
       " 'las': 0.0,\n",
       " 'las_per_type': {'': {'p': 0.0, 'r': 0.0, 'f': 0.0}},\n",
       " 'ents_p': 60.36585365853659,\n",
       " 'ents_r': 60.0,\n",
       " 'ents_f': 60.182370820668694,\n",
       " 'ents_per_type': {'Skills': {'p': 64.15094339622641,\n",
       "   'r': 66.66666666666666,\n",
       "   'f': 65.38461538461539},\n",
       "  'CompaniesWorkAt': {'p': 53.84615384615385,\n",
       "   'r': 41.17647058823529,\n",
       "   'f': 46.666666666666664},\n",
       "  'GraduationYear': {'p': 33.33333333333333,\n",
       "   'r': 35.294117647058826,\n",
       "   'f': 34.285714285714285},\n",
       "  'Name': {'p': 42.857142857142854, 'r': 33.33333333333333, 'f': 37.5},\n",
       "  'YearsofExperience': {'p': 58.333333333333336,\n",
       "   'r': 77.77777777777779,\n",
       "   'f': 66.66666666666666},\n",
       "  'Email': {'p': 86.66666666666667,\n",
       "   'r': 86.66666666666667,\n",
       "   'f': 86.66666666666667},\n",
       "  'CollegeName': {'p': 76.92307692307693,\n",
       "   'r': 58.82352941176471,\n",
       "   'f': 66.66666666666667},\n",
       "  'Location': {'p': 64.28571428571429, 'r': 75.0, 'f': 69.23076923076924}},\n",
       " 'tags_acc': 0.0,\n",
       " 'token_acc': 100.0,\n",
       " 'textcat_score': 0.0,\n",
       " 'textcats_per_cat': {}}"
      ]
     },
     "execution_count": 14,
     "metadata": {},
     "output_type": "execute_result"
    }
   ],
   "source": [
    "#uas, las, tag_Acc are for Dependency parsing\n",
    "def evaluate(nlp_model, test_data):\n",
    "    counter = 0\n",
    "    scorer = Scorer()\n",
    "    for text, annot in test_data:\n",
    "        doc_gold_text = nlp_model.make_doc(text)\n",
    "        gold = GoldParse(doc_gold_text, entities=annot.get(\"entities\"))\n",
    "        pred_value = nlp_model(text)\n",
    "        scorer.score(pred_value, gold)\n",
    "        counter += 1\n",
    "        #print(counter)\n",
    "    return scorer.scores\n",
    "\n",
    "results = evaluate(nlp_model, test_data)\n",
    "results"
   ]
  },
  {
   "cell_type": "markdown",
   "id": "rational-princeton",
   "metadata": {},
   "source": [
    "# Testing"
   ]
  },
  {
   "cell_type": "code",
   "execution_count": 18,
   "id": "dde537ac",
   "metadata": {},
   "outputs": [],
   "source": [
    "def spacy_predict(text):\n",
    "    test_doc = nlp_model(text) \n",
    "    s = \"\"\n",
    "    for ent in test_doc.ents:\n",
    "        s += f'{ent.label_.upper():{30}}- {ent.text}' + '\\n'\n",
    "    return test_doc, s"
   ]
  },
  {
   "cell_type": "code",
   "execution_count": 19,
   "id": "together-temple",
   "metadata": {},
   "outputs": [
    {
     "data": {
      "text/plain": [
       "[\"Contact www.linkedin.com/in/jim- looi-52313312 (LinkedIn) Top Skills Strategy Business Strategy Sales Process Languages English (Full Professional) Cantonese (Native or Bilingual) Chinese (Native or Bilingual) Mandarin (Native or Bilingual) Japanese (Elementary) Jim Looi Sales Manager at STMicroelectronics 6eiangoi Summary Involvie in daily operational and managing regional sales in Greater China and South East Asia, eg Shanghai, Shenzhen, Taipei, Penang, Singapore, Bangkok. Specialties: Fluent in both spoken and written English, Mandarin, Cantonese, and Malay. Fair in Japanese public speaking. Experience STMicroelectronics Sales Manager August 2005 - Present (16 years 5 months) * Reporting directly to Head of Department, whom reporting to CEO. * Managing a sales and customer service team of 6-8 persons located in Greater China and Asia Pacific. * Responsible for sales development in Electronic Manufacturing Services segment and distribution includes identifying new business opportunities, building linkages, managing and providing suitable solutions in securing the business bidding process and order fulfillment. * Responsible for strategizing, leading and managing sales and conceptualizing and differentiating sales tactics in order to achieve assigned sales targets. * Recent regional sales achievements : Y2009 USD45M Y2010 USD6OM Y2011 USD110M LifeTech Net Sdn. Bhd Senior Sales Manager February 2002 - August 2005 (3 years 7 months) Business owned and operated by Telekom M'sia Bhd. Products: wide area network telco & wireless solution # Reporting directly to Managing Director # Involved in management decision-making and strategy planning. # Managing a sales team of 8-10 persons. Page 1 of 2 # Responsible for sales development which involves identifying business opportunities, building linkages, managing and providing suitable solutions in securing the business bidding process. # Responsible for strategizing, leading and managing sales and marketing activities in order to achieve assigned sales targets. # Responsible for conceptualizing and differentiating sales tactics against competition in tender propositions. Education University of Leicester Master, Business Administration MBA * (1997 - 2001) The University of Western Australia Honors, Electronic Engineering * (1989 - 1992) Page 2 of 2\",\n",
       " {'entities': [[263, 271, 'Name'],\n",
       "   [2159, 2182, 'CollegeName'],\n",
       "   [2229, 2234, 'GraduationYear'],\n",
       "   [669, 687, 'YearsofExperience'],\n",
       "   [289, 307, 'CompaniesWorkAt'],\n",
       "   [8, 46, 'Email'],\n",
       "   [69, 77, 'Skills'],\n",
       "   [78, 95, 'Skills'],\n",
       "   [96, 109, 'Skills']]}]"
      ]
     },
     "execution_count": 19,
     "metadata": {},
     "output_type": "execute_result"
    }
   ],
   "source": [
    "test_data[10]"
   ]
  },
  {
   "cell_type": "code",
   "execution_count": 20,
   "id": "lucky-celtic",
   "metadata": {},
   "outputs": [
    {
     "name": "stdout",
     "output_type": "stream",
     "text": [
      "EMAIL                         - www.linkedin.com/in/jimcarey\n",
      "SKILLS                        - IT Service Management\n",
      "SKILLS                        - Service Management\n",
      "SKILLS                        - ITIL\n",
      "COMPANIESWORKAT               - Prudential Services Asia 10 years\n",
      "YEARSOFEXPERIENCE             - 4 years 3 months)\n",
      "COLLEGENAME                   - Cardiff University / Prifysgol\n",
      "GRADUATIONYEAR                - 1992)\n",
      "\n"
     ]
    }
   ],
   "source": [
    "test_doc, s = spacy_predict(test_data[18][0])\n",
    "print(s)"
   ]
  },
  {
   "cell_type": "code",
   "execution_count": 21,
   "id": "roman-tutorial",
   "metadata": {},
   "outputs": [
    {
     "data": {
      "text/html": [
       "<span class=\"tex2jax_ignore\"><div class=\"entities\" style=\"line-height: 2.5; direction: ltr\">Contact \n",
       "<mark class=\"entity\" style=\"background: #ddd; padding: 0.45em 0.6em; margin: 0 0.25em; line-height: 1; border-radius: 0.35em;\">\n",
       "    www.linkedin.com/in/jimcarey\n",
       "    <span style=\"font-size: 0.8em; font-weight: bold; line-height: 1; border-radius: 0.35em; text-transform: uppercase; vertical-align: middle; margin-left: 0.5rem\">Email</span>\n",
       "</mark>\n",
       " (LinkedIn) Top Skills \n",
       "<mark class=\"entity\" style=\"background: #ddd; padding: 0.45em 0.6em; margin: 0 0.25em; line-height: 1; border-radius: 0.35em;\">\n",
       "    IT Service Management\n",
       "    <span style=\"font-size: 0.8em; font-weight: bold; line-height: 1; border-radius: 0.35em; text-transform: uppercase; vertical-align: middle; margin-left: 0.5rem\">Skills</span>\n",
       "</mark>\n",
       " \n",
       "<mark class=\"entity\" style=\"background: #ddd; padding: 0.45em 0.6em; margin: 0 0.25em; line-height: 1; border-radius: 0.35em;\">\n",
       "    Service Management\n",
       "    <span style=\"font-size: 0.8em; font-weight: bold; line-height: 1; border-radius: 0.35em; text-transform: uppercase; vertical-align: middle; margin-left: 0.5rem\">Skills</span>\n",
       "</mark>\n",
       " \n",
       "<mark class=\"entity\" style=\"background: #ddd; padding: 0.45em 0.6em; margin: 0 0.25em; line-height: 1; border-radius: 0.35em;\">\n",
       "    ITIL\n",
       "    <span style=\"font-size: 0.8em; font-weight: bold; line-height: 1; border-radius: 0.35em; text-transform: uppercase; vertical-align: middle; margin-left: 0.5rem\">Skills</span>\n",
       "</mark>\n",
       " Languages French Jim Carey Head of Regional Technology ivialaysiL Summary Senior IT Leader with 21 years of experience across a broad suite of disciplines, including: Service Management, Service Delivery, IT Operations, Platform Engineering, Infrastructure &amp; Datacentre Management, Application Development &amp; Support, Business Continuity Management, Call Centre Operations, Process Re-Engineering, Project/Programme Management, and Digital Transformation/Change Adoption. Currently heading the regional technology team of a Tier 1 insurance company in Asia. Experience \n",
       "<mark class=\"entity\" style=\"background: #ddd; padding: 0.45em 0.6em; margin: 0 0.25em; line-height: 1; border-radius: 0.35em;\">\n",
       "    Prudential Services Asia 10 years\n",
       "    <span style=\"font-size: 0.8em; font-weight: bold; line-height: 1; border-radius: 0.35em; text-transform: uppercase; vertical-align: middle; margin-left: 0.5rem\">CompaniesWorkAt</span>\n",
       "</mark>\n",
       " Head, Regional Technology October 2017 - Present (\n",
       "<mark class=\"entity\" style=\"background: #ddd; padding: 0.45em 0.6em; margin: 0 0.25em; line-height: 1; border-radius: 0.35em;\">\n",
       "    4 years 3 months)\n",
       "    <span style=\"font-size: 0.8em; font-weight: bold; line-height: 1; border-radius: 0.35em; text-transform: uppercase; vertical-align: middle; margin-left: 0.5rem\">YearsofExperience</span>\n",
       "</mark>\n",
       " Malaysia Heading delivery of a diverse set of IT services across the Asia Pacific region, including full-suite Infrastructure &amp; Operations Management, Service Management &amp; Service Delivery, Digital Transformation, and Software &amp; Platform Engineering. I.T. Director January 2012 - Present (10 years) Cyberjaya, Malaysi Responsible for IT services provided by a centralised hub to businesses across the Asia Pacific region, including Service Desk / Service Support, Service Management, Batch Operations, PM0, Datacentre Management, Release Management, Strategic Procurement, and Disaster Recovery / Business Continuity Management. Standard Chartered Bank 11 years 1 month Head, IT Service Centre November 2007 - January 2012 (4 years 3 months) Page 1 of 2 Providing strategic and general management to a multi-skilled global IT Service Centre. Disciplines included Service Desk, Incident Management, Problem Management, Change Management, Security Administration, Request Co- ordination and Fulfilment, Datacentre Operations, Technical Support, Asset &amp; License Management, Service Reporting. Senior Service Manager, Wholesale Bank (Transaction Banking) September 2004 - October 2007 (3 years 2 months) Responsible for global end-to-end Service Management of all production technology services used by SC B's Wholesale Bank Transaction Banking businesses (Cash Management, Trade Services, Commercial Loans). Re-Engineering and Transition Project Manager January 2001 - August 2004 (3 years 8 months) Part of a core team to provide subject matter expertise and project management for an IT Services re-engineering project at Standard Chartered, consolidating, standardising, and centralising disparate country-based functions (Incident, Problem, Change &amp;amp; Request Management, Security Management, Automated Event Management) into two global Service Centres in KL, Malaysia and Chennai, India. This involved process and solution design, tool assessment and functional definition, resource profiling and recruitment, facilities fit-out, training, and finally transition management of 50+ countries into the IT hubs. Education \n",
       "<mark class=\"entity\" style=\"background: #ddd; padding: 0.45em 0.6em; margin: 0 0.25em; line-height: 1; border-radius: 0.35em;\">\n",
       "    Cardiff University / Prifysgol\n",
       "    <span style=\"font-size: 0.8em; font-weight: bold; line-height: 1; border-radius: 0.35em; text-transform: uppercase; vertical-align: middle; margin-left: 0.5rem\">CollegeName</span>\n",
       "</mark>\n",
       " Caerdydd BA, English Literature - (1993 - 1996) King Edward VI Five Ways * (1985 - \n",
       "<mark class=\"entity\" style=\"background: #ddd; padding: 0.45em 0.6em; margin: 0 0.25em; line-height: 1; border-radius: 0.35em;\">\n",
       "    1992)\n",
       "    <span style=\"font-size: 0.8em; font-weight: bold; line-height: 1; border-radius: 0.35em; text-transform: uppercase; vertical-align: middle; margin-left: 0.5rem\">GraduationYear</span>\n",
       "</mark>\n",
       " Page 2 of 2</div></span>"
      ],
      "text/plain": [
       "<IPython.core.display.HTML object>"
      ]
     },
     "metadata": {},
     "output_type": "display_data"
    }
   ],
   "source": [
    "spacy.displacy.render(test_doc, style='ent', jupyter=True)"
   ]
  },
  {
   "cell_type": "code",
   "execution_count": 22,
   "id": "helpful-intranet",
   "metadata": {},
   "outputs": [
    {
     "name": "stdout",
     "output_type": "stream",
     "text": [
      "EMAIL                         - www.linkedin.com/in/travis-leong- b2670775\n",
      "SKILLS                        - Management\n",
      "SKILLS                        - Project Management\n",
      "SKILLS                        - Business Process Improvement\n",
      "NAME                          - Travis Leong\n",
      "COMPANIESWORKAT               - Focus Point Vision Care Group\n",
      "\n"
     ]
    }
   ],
   "source": [
    "test = \"Contact www.linkedin.com/in/travis-leong- b2670775 (LinkedIn) Top Skills Management Project Management Business Process Improvement Travis Leong Application Support Manager at Focus Point Vision Care Group IVIalaysta Experience Focus Point Vision Care Group Application Support Manager Page 1 of 1\"\n",
    "test_doc, s = spacy_predict(test)\n",
    "print (s)"
   ]
  },
  {
   "cell_type": "code",
   "execution_count": 25,
   "id": "legal-solid",
   "metadata": {},
   "outputs": [
    {
     "name": "stdout",
     "output_type": "stream",
     "text": [
      "EMAIL                         - www.linkedin.com/in/travis-leong- b2670775\n",
      "SKILLS                        - Management\n",
      "SKILLS                        - Project Management\n",
      "SKILLS                        - Business Process Improvement\n",
      "NAME                          - Travis Leong\n",
      "COMPANIESWORKAT               - Focus Point Vision Care Group\n",
      "\n"
     ]
    }
   ],
   "source": [
    "test = \"Contact www.linkedin.com/in/travis-leong- b2670775 (LinkedIn) Top Skills Management Project Management Business Process Improvement Travis Leong Application Support Manager at Focus Point Vision Care Group IVIalaysta Experience Focus Point Vision Care Group Application Support Manager Page 1 of 1\"\n",
    "test_doc, s = spacy_predict(test)\n",
    "print (s)"
   ]
  },
  {
   "cell_type": "code",
   "execution_count": 26,
   "id": "dying-clinic",
   "metadata": {},
   "outputs": [
    {
     "name": "stdout",
     "output_type": "stream",
     "text": [
      "SKILLS                        - Jha Application\n",
      "\n"
     ]
    }
   ],
   "source": [
    "# merged dataset\n",
    "test = \"Abhishek Jha Application Development Associate - Accenture  Bengaluru, Karnataka - Email me on Indeed: indeed.com/r/Abhishek-Jha/10e7a8cb732bc43a  • To work for an organization which provides me the opportunity to improve my skills and knowledge for my individual and company's growth in best possible ways.  Willing to relocate to: Bangalore, Karnataka  WORK EXPERIENCE  Application Development Associate  Accenture -  November 2017 to Present  Role: Currently working on Chat-bot. Developing Backend Oracle PeopleSoft Queries for the Bot which will be triggered based on given input. Also, Training the bot for different possible utterances (Both positive and negative), which will be given as input by the user.  EDUCATION  B.E in Information science and engineering  B.v.b college of engineering and technology -  Hubli, Karnataka  August 2013 to June 2017  12th in Mathematics  Woodbine modern school  April 2011 to March 2013  10th  Kendriya Vidyalaya  April 2001 to March 2011  SKILLS  C (Less than 1 year), Database (Less than 1 year), Database Management (Less than 1 year), Database Management System (Less than 1 year), Java (Less than 1 year)  ADDITIONAL INFORMATION  Technical Skills  https://www.indeed.com/r/Abhishek-Jha/10e7a8cb732bc43a?isid=rex-download&ikw=download-top&co=IN   • Programming language: C, C++, Java • Oracle PeopleSoft • Internet Of Things • Machine Learning • Database Management System • Computer Networks • Operating System worked on: Linux, Windows, Mac  Non - Technical Skills  • Honest and Hard-Working • Tolerant and Flexible to Different Situations • Polite and Calm • Team-Player\"\n",
    "test_doc, s = spacy_predict(test)\n",
    "print (s)"
   ]
  },
  {
   "cell_type": "code",
   "execution_count": 27,
   "id": "falling-former",
   "metadata": {},
   "outputs": [
    {
     "name": "stdout",
     "output_type": "stream",
     "text": [
      "SKILLS                        - Jha Application\n",
      "\n"
     ]
    }
   ],
   "source": [
    "test = \"Abhishek Jha Application Development Associate - Accenture  Bengaluru, Karnataka - Email me on Indeed: indeed.com/r/Abhishek-Jha/10e7a8cb732bc43a  • To work for an organization which provides me the opportunity to improve my skills and knowledge for my individual and company's growth in best possible ways.  Willing to relocate to: Bangalore, Karnataka  WORK EXPERIENCE  Application Development Associate  Accenture -  November 2017 to Present  Role: Currently working on Chat-bot. Developing Backend Oracle PeopleSoft Queries for the Bot which will be triggered based on given input. Also, Training the bot for different possible utterances (Both positive and negative), which will be given as input by the user.  EDUCATION  B.E in Information science and engineering  B.v.b college of engineering and technology -  Hubli, Karnataka  August 2013 to June 2017  12th in Mathematics  Woodbine modern school  April 2011 to March 2013  10th  Kendriya Vidyalaya  April 2001 to March 2011  SKILLS  C (Less than 1 year), Database (Less than 1 year), Database Management (Less than 1 year), Database Management System (Less than 1 year), Java (Less than 1 year)  ADDITIONAL INFORMATION  Technical Skills  https://www.indeed.com/r/Abhishek-Jha/10e7a8cb732bc43a?isid=rex-download&ikw=download-top&co=IN   • Programming language: C, C++, Java • Oracle PeopleSoft • Internet Of Things • Machine Learning • Database Management System • Computer Networks • Operating System worked on: Linux, Windows, Mac  Non - Technical Skills  • Honest and Hard-Working • Tolerant and Flexible to Different Situations • Polite and Calm • Team-Player\"\n",
    "test_doc, s = spacy_predict(test)\n",
    "print (s)"
   ]
  },
  {
   "cell_type": "code",
   "execution_count": 24,
   "id": "aggregate-confusion",
   "metadata": {},
   "outputs": [
    {
     "name": "stdout",
     "output_type": "stream",
     "text": [
      "SKILLS                        - Firewalls\n",
      "NAME                          - Tellabs Managed\n",
      "YEARSOFEXPERIENCE             - 4 years 2 months)\n",
      "GRADUATIONYEAR                - 2007 -\n",
      "COMPANIESWORKAT               - Universiti Putra Malaysia\n",
      "\n"
     ]
    }
   ],
   "source": [
    "test = \"\"\"Contact\n",
    "\n",
    "www.linkedin.com/in/john-ooi- a593b145 (LinkedIn)\n",
    "\n",
    "Top Skills Firewalls\n",
    "\n",
    "Security TCP/IP\n",
    "\n",
    "Certifications\n",
    "\n",
    "Tellabs - Certificate of Achievement Tellabs Managed Edge System\n",
    "\n",
    "Tellabs 8600 Hardware Interface Module Installation and Replacement Certification\n",
    "\n",
    "Certified Information System Security Professional (CISSP)\n",
    "\n",
    "Certified Penetration Testing Engineer\n",
    "\n",
    "AlienVault Certified Security Engineer\n",
    "John Ooi\n",
    "\n",
    "Principal Security Consultant Seiangoi\n",
    "\n",
    "Experience\n",
    "\n",
    "SysArmy Sdn Bhd Principal Security Consultant November 2017 - Present (4 years 2 months)\n",
    "\n",
    "PKF Malaysia Senior Security Consultant November 2016 - October 2017 (1 year)\n",
    "\n",
    "e-Cop Surveillance Sdn Bhd Security Consultant November 2012 - October 2016 (4 years)\n",
    "\n",
    "* Supporting various of Managed Security Service clients.\n",
    "* Work closely with SOC team to provide 2nd level of support.\n",
    "* Involved in pre-sales activities for market leading ICT security solutions such as IFS, APT, SIEM etc.\n",
    "* Provision of Technical Pre-sales and Post-Sales support to assigned\n",
    "\n",
    "accounts (Financial Service Sector) * Preparation of Technical Proposals, Tender Documentation, Presentations, Technical Briefings and follow-up discussion, implementation and review * Preparation of Monthly Security Incident Reports and Presentation * Liaising with clients/users with regards to security incident reports and\n",
    "\n",
    "handling * Provision of Advisories and Technical Recommendations to clients to enhance security network posture, controls, policies, processes and practices.\n",
    "* Propose technical solutions and functional consultation and support in project implementation with excellent customer service skills.\n",
    "* Provide guidance to Security Engineer in project implementation & troubleshooting.\n",
    "* Involve in operational services: security compliance, gap analysis, risk management, resource violation and external gateways perimeter review.\n",
    "\n",
    "AT&T Communication Services Project Validation & Guidance Coordinator April 2011 - November 2012 (1 year 8 months)\n",
    "\n",
    "Page 1 of 2\n",
    " \n",
    "Diversified Gateway Berhard Network Support Engineer March 2009 - April 2011 (2 years 2 months)\n",
    "\n",
    "Satyam Computer Services Ltd Network & System Support Engineer July 2007 - March 2009 (1 year 9 months)\n",
    "\n",
    "Education\n",
    "\n",
    "Universiti Putra Malaysia Computer Science, Networking\n",
    "\n",
    "Page 2 of 2\"\"\"\n",
    "test_doc, s = spacy_predict(test)\n",
    "print (s)"
   ]
  },
  {
   "cell_type": "code",
   "execution_count": 23,
   "id": "certain-craft",
   "metadata": {},
   "outputs": [
    {
     "name": "stdout",
     "output_type": "stream",
     "text": [
      "\n"
     ]
    }
   ],
   "source": [
    "test = \"kuala lumpur johor bahru\"\n",
    "test_doc, s = spacy_predict(test)\n",
    "print (s)"
   ]
  },
  {
   "cell_type": "code",
   "execution_count": null,
   "id": "2f76a366-6944-447b-b18c-da023b47a228",
   "metadata": {},
   "outputs": [],
   "source": []
  }
 ],
 "metadata": {
  "kernelspec": {
   "display_name": "resume",
   "language": "python",
   "name": "resume"
  },
  "language_info": {
   "codemirror_mode": {
    "name": "ipython",
    "version": 3
   },
   "file_extension": ".py",
   "mimetype": "text/x-python",
   "name": "python",
   "nbconvert_exporter": "python",
   "pygments_lexer": "ipython3",
   "version": "3.7.12"
  }
 },
 "nbformat": 4,
 "nbformat_minor": 5
}
