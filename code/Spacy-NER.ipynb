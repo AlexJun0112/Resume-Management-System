{
 "cells": [
  {
   "cell_type": "code",
   "execution_count": 4,
   "id": "bottom-straight",
   "metadata": {},
   "outputs": [],
   "source": [
    "import spacy\n",
    "#import pickle\n",
    "import random\n",
    "import pandas as pd\n",
    "#import thinc\n",
    "#from sklearn.metrics import classification_report\n",
    "#from sklearn.metrics import precision_recall_fscore_support\n",
    "from spacy.gold import GoldParse\n",
    "from spacy.scorer import Scorer\n",
    "#from sklearn.metrics import accuracy_score\n",
    "from tabulate import tabulate\n",
    "import matplotlib.pyplot as plt"
   ]
  },
  {
   "cell_type": "code",
   "execution_count": 5,
   "id": "cardiovascular-bailey",
   "metadata": {},
   "outputs": [],
   "source": [
    "data_json = pd.read_json('../NLPoutput.json', lines = True)"
   ]
  },
  {
   "cell_type": "code",
   "execution_count": 6,
   "id": "distant-accordance",
   "metadata": {},
   "outputs": [
    {
     "data": {
      "text/plain": [
       "0    Contact www.linkedin.com/in/hongong (LinkedIn)...\n",
       "1    Contact www.linkedin.com/in/jun-wai- chin-Ob80...\n",
       "2    Contact www.linkedin.com/in/mark-tan-bc (Linke...\n",
       "3    Contact www.linkedin.com/in/lohys68 (LinkedIn)...\n",
       "4    Contact www.linkedin.com/in/adi-zafri- bOba6a1...\n",
       "Name: content, dtype: object"
      ]
     },
     "execution_count": 6,
     "metadata": {},
     "output_type": "execute_result"
    }
   ],
   "source": [
    "data_json[\"content\"] = data_json[\"content\"].apply(lambda x: x.replace(\"\\n\", \" \"))\n",
    "data_json[\"content\"].head(5)"
   ]
  },
  {
   "cell_type": "code",
   "execution_count": 7,
   "id": "quantitative-blocking",
   "metadata": {
    "scrolled": true
   },
   "outputs": [
    {
     "data": {
      "text/plain": [
       "\"Contact www.linkedin.com/in/hongong (LinkedIn) Top Skills High Performance Computing Operating Systems Fault Tolerance Languages Bahasa Melayu (Malay) (Limited Working) English (Full Professional) Chinese (Professional Working) Certifications Design Thinking Bootcamp Competing on Business Analytics and Big Data Hong H. Ong Head of Data Science and Analytics I Data Strategy, Innovation & Transformation I Build intelligent enterprise powered with data-driven analytics RLAthich Lumpur Summary I have two decades of data intensive computing experience. I am passionate about applying data strategy together with business driven technology to solve industrial problems. I have a strong record of success in leading, managing and delivering top tier innovative technology to align and achieve organisation needs and goals. I am currently the Head of Data Science and Analytics at Central Bank of Malaysia where I lead a team of data scientists and machine learning engineers responsible to provide advance analytics in the Bank. Prior to the Bank, I worked at MIMOS Berhad, Malaysia's national Applied R&D institute, where I led data vision and products roadmap for Artificial Intelligence, Data-intensive analytics, and Cloud laaS & PaaS technologies. My early work experiences was in computational science and High Performance Computing (H PC) system runtime software and architecture at a prestigious US national laboratory to support groundbreaking scientific discoveries. I hold a Ph.D. in Computer Science from UK and B.S and M.S in Computer Science from US. I frequently speak at international conferences, and contributed extensively to the industry through 52 filed patents, 2 book chapters and 80 refereed papers. Apart from my day job, I am serving as Industry Advisor to Universities and Advisory Consultant to public and private sectors. In my spare time, beside spending quality time with my family, I enjoy learning about emerging technologies and various intelligent systems, particularly in the area of HPC and Machine Learning, and thinking about their applicability in private/public sectors and their social impacts. Specialties: Page 1 of 4 * High Performance Computing * Cloud and Big Data Analytic Technologies * Artificial Intelligence Technologies * IT Strategy & Technology Operations * Business Strategic and Data-Driven Decision Making * Project/Program Management Experience Central Banking Services Bank Negara Malaysia Head of Data Science and Analytics September 2020 - Present (1 year 4 months) Kuala Lumpur, Federal Territory of Kuala Lumpur, Malaysia I manage the data science & machine learning team at Central Bank of Malaysia that works on a broad range of problems, including monetary stability, financial stability, prudential supervisory and regulation, organisational analytics, and more. As a data leader, I lead the team's strategy & growth, along with engaging on the deep technical content the team is driving. As a team, we drive the data science and analytics vision in the Bank, which spans across strategy, people, processes and technology in supporting the Bank's move towards becoming a data and insight-driven organisation. MIMOS Berhad 7 years 11 months Senior Director, Corporate Technology June 2015 - August 2020 (5 years 3 months) Kuala Lumpur, Malaysia During my tenure here, I headed three departments, namely Advanced Computing Lab (ACL), Accelerative Technology Lab (ATL), and Artificial Intelligence Lab (AIL). ACL is recognized as particularly strong in the areas of system software and architecture. We investigate these areas in the context of emerging computing paradigms such as cloud computing, mobile computing, data- intensive computing, and edge computing, and explore their utilisation in supporting enterprise applications. Currently focusing on using lean virtualisation technologies to manage Internet-of-Things (loTs) applications at the network edge. For storage area, our work focus on data protection and availability, long-term data preservation, and storage optimization. As for Page 2 of 4 network virtualization, we focus on cloud-based network policy and security. Since 2012, we have developed and deployed our cloud and storage platforms to public and private sectors. ATL investigates the use of Accelerators such as Graphics Processing Units (GPUs) and Field Programmable Gate Arrays (FPGAs) for industrial and scientific applications. We applied the state-of-the-art of parallel computational algorithms and implemented them as libraries, interfaces, or accelerative components. Since 2012, ATL has developed and deployed to industries including GPU Graph/Text Analytics, GPU Image Processing for Multi-Video Analytic, GPU SQL query Accelerator, and GPU Accelerated Library (Mi- AccLib). AIL focuses on Artificial Intelligence technology to develop high performance Intelligent Big Data Analytics. The R&D team applies Data Science and Knowledge Science technologies like Machine Learning, Semantic Technology, large scale Graph Analytics, and Natural Language Processing for deriving insights from the unstructured and structured data. We have been applied the technology to Domain Knowledge Management, Enterprise Performance Management, Online Analytical Processing, Predictive Analytics and Prescriptive Analytics. Director October 2012 - May 2015 (2 years 8 months) eManual System Sdn Bhd Chief Technology Officer April 2012 - September 2012 (6 months) Kuala Lui „i i.L.k.Aia Lumpur, Malaysk. , y Developed the innovation framework to meet business objectives. Developed the company's go-to-market strategy. MIMOS Berhad Principal Researcher June 2010 - March 2012 (1 year 10 months) Applied R&D in broad aspects of reliability and security in distributed systems, particularly in Infrastructure-as-a-service. Direct report to Chief Technology Officer. Oak Ridge National Laboratory (ORNL) Sr. HPC Research Scientist Page 3 of 4 April 2005 - August 2009 (4 years 5 months) Conducted R&D to determine the best way to approach system tools and libraries as well as recommending the best path forward for application and system resiliency development on petascale computers Conducted R&D into cluster computing techniques, tools, algorithms, and high- performance networking hardware. University of Portsmouth Post-Doctoral Research Associate November 2003 - March 2005 (1 year 5 months) Conducted R&D in the area of resource management for distributed computing. Deployed and maintained the UK e-Science OGSA Grid Testbed infrastructure Education University of Portsmouth Ph.D, Computer Science - (2001 - 2004) Kent State University M.Sc, Computer Science - (1996 - 1999) Kent State University B. Sc, Computer Science * (1991 - 1996) Page 4 of 4\""
      ]
     },
     "execution_count": 7,
     "metadata": {},
     "output_type": "execute_result"
    }
   ],
   "source": [
    "data_json[\"content\"][0]"
   ]
  },
  {
   "cell_type": "code",
   "execution_count": 8,
   "id": "completed-positive",
   "metadata": {
    "scrolled": true
   },
   "outputs": [
    {
     "data": {
      "text/plain": [
       "[{'label': ['Name'],\n",
       "  'points': [{'start': 313, 'end': 324, 'text': 'Hong H. Ong'}]},\n",
       " {'label': ['CollegeName'],\n",
       "  'points': [{'start': 6276,\n",
       "    'end': 6300,\n",
       "    'text': 'University of Portsmouth'}]},\n",
       " {'label': ['GraduationYear'],\n",
       "  'points': [{'start': 6597, 'end': 6601, 'text': '2004'}]},\n",
       " {'label': ['YearsofExperience'],\n",
       "  'points': [{'start': 2510, 'end': 2525, 'text': '1 year 4 months'}]},\n",
       " {'label': ['CompaniesWorkAt'],\n",
       "  'points': [{'start': 2403,\n",
       "    'end': 2448,\n",
       "    'text': 'Central Banking Services Bank Negara Malaysia'}]},\n",
       " {'label': ['Email'],\n",
       "  'points': [{'start': 8, 'end': 35, 'text': 'www.linkedin.com/in/hongong'}]},\n",
       " {'label': ['Location'],\n",
       "  'points': [{'start': 2527, 'end': 2539, 'text': 'Kuala Lumpur'}]},\n",
       " {'label': ['Skills'],\n",
       "  'points': [{'start': 58, 'end': 84, 'text': 'High Performance Computing'}]},\n",
       " {'label': ['Skills'],\n",
       "  'points': [{'start': 85, 'end': 102, 'text': 'Operating Systems'}]},\n",
       " {'label': ['Skills'],\n",
       "  'points': [{'start': 103, 'end': 118, 'text': 'Fault Tolerance'}]}]"
      ]
     },
     "execution_count": 8,
     "metadata": {},
     "output_type": "execute_result"
    }
   ],
   "source": [
    "data_json.iloc[0].annotation"
   ]
  },
  {
   "cell_type": "code",
   "execution_count": 9,
   "id": "communist-pioneer",
   "metadata": {},
   "outputs": [],
   "source": [
    "# import logging\n",
    "import json\n",
    "import re\n",
    "\n",
    "# JSON formatting functions\n",
    "def convert_dataturks_to_spacy(dataturks_JSON_FilePath):\n",
    "    training_data = []\n",
    "    lines=[]\n",
    "    with open(dataturks_JSON_FilePath, encoding=\"utf8\") as f:\n",
    "        lines = f.readlines()\n",
    "\n",
    "    for line in lines:\n",
    "        data = json.loads(line)\n",
    "        text = data['content'].replace(\"\\n\", \" \")\n",
    "        entities = []\n",
    "        data_annotations = data['annotation']\n",
    "        if data_annotations is not None:\n",
    "            for annotation in data_annotations:\n",
    "                #only a single point in text annotation.\n",
    "                point = annotation['points'][0]\n",
    "                labels = annotation['label']\n",
    "                # handle both list of labels or a single label.\n",
    "                if not isinstance(labels, list):\n",
    "                    labels = [labels]\n",
    "\n",
    "                for label in labels:\n",
    "                    point_start = point['start']\n",
    "                    point_end = point['end']\n",
    "                    point_text = point['text']\n",
    "\n",
    "                    lstrip_diff = len(point_text) - len(point_text.lstrip())\n",
    "                    rstrip_diff = len(point_text) - len(point_text.rstrip())\n",
    "                    if lstrip_diff != 0:\n",
    "                        point_start = point_start + lstrip_diff\n",
    "                    if rstrip_diff != 0:\n",
    "                        point_end = point_end - rstrip_diff\n",
    "                    entities.append((point_start, point_end + 1 , label))\n",
    "        training_data.append((text, {\"entities\" : entities}))\n",
    "    return training_data\n",
    "\n",
    "def trim_entity_spans(data: list) -> list:\n",
    "    \"\"\"Removes leading and trailing white spaces from entity spans.\n",
    "\n",
    "    Args:\n",
    "        data (list): The data to be cleaned in spaCy JSON format.\n",
    "\n",
    "    Returns:\n",
    "        list: The cleaned data.\n",
    "    \"\"\"\n",
    "    invalid_span_tokens = re.compile(r'\\s')\n",
    "\n",
    "    cleaned_data = []\n",
    "    for text, annotations in data:\n",
    "        entities = annotations['entities']\n",
    "        valid_entities = []\n",
    "        for start, end, label in entities:\n",
    "            valid_start = start\n",
    "            valid_end = end\n",
    "            while valid_start < len(text) and invalid_span_tokens.match(\n",
    "                    text[valid_start]):\n",
    "                valid_start += 1\n",
    "            while valid_end > 1 and invalid_span_tokens.match(\n",
    "                    text[valid_end - 1]):\n",
    "                valid_end -= 1\n",
    "            valid_entities.append([valid_start, valid_end, label])\n",
    "        cleaned_data.append([text, {'entities': valid_entities}])\n",
    "    return cleaned_data"
   ]
  },
  {
   "cell_type": "code",
   "execution_count": 10,
   "id": "dutch-microphone",
   "metadata": {
    "scrolled": true
   },
   "outputs": [
    {
     "data": {
      "text/plain": [
       "[\"Contact www.linkedin.com/in/hongong (LinkedIn) Top Skills High Performance Computing Operating Systems Fault Tolerance Languages Bahasa Melayu (Malay) (Limited Working) English (Full Professional) Chinese (Professional Working) Certifications Design Thinking Bootcamp Competing on Business Analytics and Big Data Hong H. Ong Head of Data Science and Analytics I Data Strategy, Innovation & Transformation I Build intelligent enterprise powered with data-driven analytics RLAthich Lumpur Summary I have two decades of data intensive computing experience. I am passionate about applying data strategy together with business driven technology to solve industrial problems. I have a strong record of success in leading, managing and delivering top tier innovative technology to align and achieve organisation needs and goals. I am currently the Head of Data Science and Analytics at Central Bank of Malaysia where I lead a team of data scientists and machine learning engineers responsible to provide advance analytics in the Bank. Prior to the Bank, I worked at MIMOS Berhad, Malaysia's national Applied R&D institute, where I led data vision and products roadmap for Artificial Intelligence, Data-intensive analytics, and Cloud laaS & PaaS technologies. My early work experiences was in computational science and High Performance Computing (H PC) system runtime software and architecture at a prestigious US national laboratory to support groundbreaking scientific discoveries. I hold a Ph.D. in Computer Science from UK and B.S and M.S in Computer Science from US. I frequently speak at international conferences, and contributed extensively to the industry through 52 filed patents, 2 book chapters and 80 refereed papers. Apart from my day job, I am serving as Industry Advisor to Universities and Advisory Consultant to public and private sectors. In my spare time, beside spending quality time with my family, I enjoy learning about emerging technologies and various intelligent systems, particularly in the area of HPC and Machine Learning, and thinking about their applicability in private/public sectors and their social impacts. Specialties: Page 1 of 4 * High Performance Computing * Cloud and Big Data Analytic Technologies * Artificial Intelligence Technologies * IT Strategy & Technology Operations * Business Strategic and Data-Driven Decision Making * Project/Program Management Experience Central Banking Services Bank Negara Malaysia Head of Data Science and Analytics September 2020 - Present (1 year 4 months) Kuala Lumpur, Federal Territory of Kuala Lumpur, Malaysia I manage the data science & machine learning team at Central Bank of Malaysia that works on a broad range of problems, including monetary stability, financial stability, prudential supervisory and regulation, organisational analytics, and more. As a data leader, I lead the team's strategy & growth, along with engaging on the deep technical content the team is driving. As a team, we drive the data science and analytics vision in the Bank, which spans across strategy, people, processes and technology in supporting the Bank's move towards becoming a data and insight-driven organisation. MIMOS Berhad 7 years 11 months Senior Director, Corporate Technology June 2015 - August 2020 (5 years 3 months) Kuala Lumpur, Malaysia During my tenure here, I headed three departments, namely Advanced Computing Lab (ACL), Accelerative Technology Lab (ATL), and Artificial Intelligence Lab (AIL). ACL is recognized as particularly strong in the areas of system software and architecture. We investigate these areas in the context of emerging computing paradigms such as cloud computing, mobile computing, data- intensive computing, and edge computing, and explore their utilisation in supporting enterprise applications. Currently focusing on using lean virtualisation technologies to manage Internet-of-Things (loTs) applications at the network edge. For storage area, our work focus on data protection and availability, long-term data preservation, and storage optimization. As for Page 2 of 4 network virtualization, we focus on cloud-based network policy and security. Since 2012, we have developed and deployed our cloud and storage platforms to public and private sectors. ATL investigates the use of Accelerators such as Graphics Processing Units (GPUs) and Field Programmable Gate Arrays (FPGAs) for industrial and scientific applications. We applied the state-of-the-art of parallel computational algorithms and implemented them as libraries, interfaces, or accelerative components. Since 2012, ATL has developed and deployed to industries including GPU Graph/Text Analytics, GPU Image Processing for Multi-Video Analytic, GPU SQL query Accelerator, and GPU Accelerated Library (Mi- AccLib). AIL focuses on Artificial Intelligence technology to develop high performance Intelligent Big Data Analytics. The R&D team applies Data Science and Knowledge Science technologies like Machine Learning, Semantic Technology, large scale Graph Analytics, and Natural Language Processing for deriving insights from the unstructured and structured data. We have been applied the technology to Domain Knowledge Management, Enterprise Performance Management, Online Analytical Processing, Predictive Analytics and Prescriptive Analytics. Director October 2012 - May 2015 (2 years 8 months) eManual System Sdn Bhd Chief Technology Officer April 2012 - September 2012 (6 months) Kuala Lui „i i.L.k.Aia Lumpur, Malaysk. , y Developed the innovation framework to meet business objectives. Developed the company's go-to-market strategy. MIMOS Berhad Principal Researcher June 2010 - March 2012 (1 year 10 months) Applied R&D in broad aspects of reliability and security in distributed systems, particularly in Infrastructure-as-a-service. Direct report to Chief Technology Officer. Oak Ridge National Laboratory (ORNL) Sr. HPC Research Scientist Page 3 of 4 April 2005 - August 2009 (4 years 5 months) Conducted R&D to determine the best way to approach system tools and libraries as well as recommending the best path forward for application and system resiliency development on petascale computers Conducted R&D into cluster computing techniques, tools, algorithms, and high- performance networking hardware. University of Portsmouth Post-Doctoral Research Associate November 2003 - March 2005 (1 year 5 months) Conducted R&D in the area of resource management for distributed computing. Deployed and maintained the UK e-Science OGSA Grid Testbed infrastructure Education University of Portsmouth Ph.D, Computer Science - (2001 - 2004) Kent State University M.Sc, Computer Science - (1996 - 1999) Kent State University B. Sc, Computer Science * (1991 - 1996) Page 4 of 4\",\n",
       " {'entities': [[313, 324, 'Name'],\n",
       "   [6276, 6300, 'CollegeName'],\n",
       "   [6597, 6602, 'GraduationYear'],\n",
       "   [2510, 2526, 'YearsofExperience'],\n",
       "   [2403, 2448, 'CompaniesWorkAt'],\n",
       "   [8, 35, 'Email'],\n",
       "   [2527, 2540, 'Location'],\n",
       "   [58, 84, 'Skills'],\n",
       "   [85, 102, 'Skills'],\n",
       "   [103, 118, 'Skills']]}]"
      ]
     },
     "execution_count": 10,
     "metadata": {},
     "output_type": "execute_result"
    }
   ],
   "source": [
    "data = trim_entity_spans(convert_dataturks_to_spacy(\"../NLPoutput.json\"))\n",
    "data[0]"
   ]
  },
  {
   "cell_type": "code",
   "execution_count": 11,
   "id": "expected-separation",
   "metadata": {},
   "outputs": [
    {
     "data": {
      "text/plain": [
       "['Contact www.linkedin.com/in/jun-wai- chin-Ob806a1 ab (Linked In) Top Skills Machine Learning Python (Programming Language) Teamwork Certifications AWS Academy Graduate - AWS Academy Cloud Foundations Jun Wai Chin Data Science Student at Tunku Abdul Rahman University College Petaling Jaya Summary Have a great passion in Data Engineering, Big Data, ETL, Data Science and Machine Learning Experience Tapod Mobile Application Developer Intern February 2020 - April 2020 (3 months) Selangor, Malaysia Education Tunku Abdul Rahman University College Bachelor of Computer Science, Data Science * (June 2020 - July 2022) Tunku Abdul Rahman University College Diploma in Science, Mathematics and Computer Science (May 2018 - June 2020) Page 1 of 1',\n",
       " {'entities': [[200, 212, 'Name'],\n",
       "   [237, 274, 'CollegeName'],\n",
       "   [609, 614, 'GraduationYear'],\n",
       "   [469, 478, 'YearsofExperience'],\n",
       "   [399, 404, 'CompaniesWorkAt'],\n",
       "   [275, 288, 'Location'],\n",
       "   [76, 92, 'Skills'],\n",
       "   [93, 99, 'Skills'],\n",
       "   [123, 131, 'Skills']]}]"
      ]
     },
     "execution_count": 11,
     "metadata": {},
     "output_type": "execute_result"
    }
   ],
   "source": [
    "data[1]"
   ]
  },
  {
   "cell_type": "code",
   "execution_count": 12,
   "id": "maritime-confirmation",
   "metadata": {},
   "outputs": [
    {
     "data": {
      "text/plain": [
       "100"
      ]
     },
     "execution_count": 12,
     "metadata": {},
     "output_type": "execute_result"
    }
   ],
   "source": [
    "len(data)"
   ]
  },
  {
   "cell_type": "markdown",
   "id": "afraid-package",
   "metadata": {},
   "source": [
    "### Split into train and test data"
   ]
  },
  {
   "cell_type": "code",
   "execution_count": 14,
   "id": "graphic-template",
   "metadata": {},
   "outputs": [],
   "source": [
    "#train_data = data[:170]\n",
    "train_data = data[:80]\n",
    "test_data = data[-20:]"
   ]
  },
  {
   "cell_type": "markdown",
   "id": "attempted-momentum",
   "metadata": {},
   "source": [
    "### Trainning"
   ]
  },
  {
   "cell_type": "code",
   "execution_count": 55,
   "id": "adjustable-accountability",
   "metadata": {},
   "outputs": [],
   "source": [
    "import warnings\n",
    "from spacy.util import minibatch, compounding\n",
    "# Number of Iteration \n",
    "no_itr = 150\n",
    "\n",
    "#Create blank english model\n",
    "nlp = spacy.blank('en') \n",
    "\n",
    "# Visualization\n",
    "x_axis = []\n",
    "y_axis = []\n",
    "\n",
    "def train_model(train_data, test_data):\n",
    "    \n",
    "    # set up the pipeline\n",
    "    if 'ner' not in nlp.pipe_names:\n",
    "        ner = nlp.create_pipe('ner')\n",
    "        nlp.add_pipe(ner, last = True) # ner component is added last in the pipeline (default).\n",
    "        \n",
    "    #add label\n",
    "    for _, annotation in train_data:\n",
    "        for ent in annotation['entities']:\n",
    "            ner.add_label(ent[2]) #e.g. Location, Name... total 8\n",
    "    \n",
    "    # disable other pipeline components (tagger & parser) during training except ner\n",
    "    other_pipes = [pipe for pipe in nlp.pipe_names if pipe != 'ner']\n",
    "    with nlp.disable_pipes(*other_pipes), warnings.catch_warnings():\n",
    "        warnings.filterwarnings(\"ignore\", message=r\"\\[W030\\]\", category=UserWarning)\n",
    "        \n",
    "        optimizer = nlp.begin_training()\n",
    "        \n",
    "        for itn in range(no_itr):\n",
    "            print(\"Starting iteration \" + str(itn))\n",
    "            random.shuffle(train_data)\n",
    "            # This will ensure the model does not make generalizations based on the order of the train data.\n",
    "            losses = {}\n",
    "            \n",
    "            batches = minibatch(train_data, size=compounding(4.0, 32.0, 1.001))\n",
    "            for batch in batches:\n",
    "                texts, annotations = zip(*batch)\n",
    "                nlp.update(texts, annotations, sgd=optimizer, drop=0.2,\n",
    "                           losses=losses)\n",
    "                #dropout - prevent overfitting\n",
    "            print('Losses', losses)\n",
    "            y_axis.append(losses)\n",
    "            x_axis.append(itn) \n",
    "    \n",
    "    # Save model\n",
    "    nlp.to_disk('nlp_model')\n",
    "    print(\"Done updating spacy model...\")"
   ]
  },
  {
   "cell_type": "code",
   "execution_count": 56,
   "id": "crucial-stability",
   "metadata": {
    "scrolled": true
   },
   "outputs": [
    {
     "name": "stdout",
     "output_type": "stream",
     "text": [
      "Starting iteration 0\n",
      "Losses {'ner': 13336.217496812907}\n",
      "Starting iteration 1\n",
      "Losses {'ner': 1725.561860960559}\n",
      "Starting iteration 2\n",
      "Losses {'ner': 1876.602407066035}\n",
      "Starting iteration 3\n",
      "Losses {'ner': 2052.406985553258}\n",
      "Starting iteration 4\n",
      "Losses {'ner': 3025.3869502710877}\n",
      "Starting iteration 5\n",
      "Losses {'ner': 3275.3698403853923}\n",
      "Starting iteration 6\n",
      "Losses {'ner': 5179.135242425837}\n",
      "Starting iteration 7\n",
      "Losses {'ner': 3368.7157740499824}\n",
      "Starting iteration 8\n",
      "Losses {'ner': 4760.759658288211}\n",
      "Starting iteration 9\n",
      "Losses {'ner': 3809.175430798903}\n",
      "Starting iteration 10\n",
      "Losses {'ner': 3964.748662217753}\n",
      "Starting iteration 11\n",
      "Losses {'ner': 3102.74975855276}\n",
      "Starting iteration 12\n",
      "Losses {'ner': 2692.3085566107184}\n",
      "Starting iteration 13\n",
      "Losses {'ner': 1661.5225762262717}\n",
      "Starting iteration 14\n",
      "Losses {'ner': 2111.459974628291}\n",
      "Starting iteration 15\n",
      "Losses {'ner': 2241.602933199436}\n",
      "Starting iteration 16\n",
      "Losses {'ner': 1224.3987874203303}\n",
      "Starting iteration 17\n",
      "Losses {'ner': 1220.297984296505}\n",
      "Starting iteration 18\n",
      "Losses {'ner': 1194.9894522501017}\n",
      "Starting iteration 19\n",
      "Losses {'ner': 985.4620070504106}\n",
      "Starting iteration 20\n",
      "Losses {'ner': 962.8682539857141}\n",
      "Starting iteration 21\n",
      "Losses {'ner': 730.5620478473243}\n",
      "Starting iteration 22\n",
      "Losses {'ner': 690.3973732043986}\n",
      "Starting iteration 23\n",
      "Losses {'ner': 577.589380840261}\n",
      "Starting iteration 24\n",
      "Losses {'ner': 852.3540689975125}\n",
      "Starting iteration 25\n",
      "Losses {'ner': 475.67722286199717}\n",
      "Starting iteration 26\n",
      "Losses {'ner': 387.96342255952567}\n",
      "Starting iteration 27\n",
      "Losses {'ner': 417.3583832054249}\n",
      "Starting iteration 28\n",
      "Losses {'ner': 328.63657530807774}\n",
      "Starting iteration 29\n",
      "Losses {'ner': 371.7133293973689}\n",
      "Starting iteration 30\n",
      "Losses {'ner': 371.41930253849705}\n",
      "Starting iteration 31\n",
      "Losses {'ner': 266.3270589576133}\n",
      "Starting iteration 32\n",
      "Losses {'ner': 281.5595707167038}\n",
      "Starting iteration 33\n",
      "Losses {'ner': 262.8605141371126}\n",
      "Starting iteration 34\n",
      "Losses {'ner': 177.5612033086529}\n",
      "Starting iteration 35\n",
      "Losses {'ner': 200.19386405883287}\n",
      "Starting iteration 36\n",
      "Losses {'ner': 186.90239250399316}\n",
      "Starting iteration 37\n",
      "Losses {'ner': 187.04997575994574}\n",
      "Starting iteration 38\n",
      "Losses {'ner': 180.72396158658}\n",
      "Starting iteration 39\n",
      "Losses {'ner': 170.4713100152488}\n",
      "Starting iteration 40\n",
      "Losses {'ner': 165.66269008223364}\n",
      "Starting iteration 41\n",
      "Losses {'ner': 118.3026557858538}\n",
      "Starting iteration 42\n",
      "Losses {'ner': 131.27330734586516}\n",
      "Starting iteration 43\n",
      "Losses {'ner': 118.41925588172015}\n",
      "Starting iteration 44\n",
      "Losses {'ner': 132.25554951249612}\n",
      "Starting iteration 45\n",
      "Losses {'ner': 139.4228667032223}\n",
      "Starting iteration 46\n",
      "Losses {'ner': 123.1333207228752}\n",
      "Starting iteration 47\n",
      "Losses {'ner': 123.5130849814502}\n",
      "Starting iteration 48\n",
      "Losses {'ner': 129.3551354597194}\n",
      "Starting iteration 49\n",
      "Losses {'ner': 133.8190189445288}\n",
      "Starting iteration 50\n",
      "Losses {'ner': 150.4690718874524}\n",
      "Starting iteration 51\n",
      "Losses {'ner': 121.12222466597962}\n",
      "Starting iteration 52\n",
      "Losses {'ner': 116.40798571187723}\n",
      "Starting iteration 53\n",
      "Losses {'ner': 132.06301553285059}\n",
      "Starting iteration 54\n",
      "Losses {'ner': 110.79982038265881}\n",
      "Starting iteration 55\n",
      "Losses {'ner': 55.98658367872262}\n",
      "Starting iteration 56\n",
      "Losses {'ner': 102.38011136443228}\n",
      "Starting iteration 57\n",
      "Losses {'ner': 119.99174088039429}\n",
      "Starting iteration 58\n",
      "Losses {'ner': 95.98019060735324}\n",
      "Starting iteration 59\n",
      "Losses {'ner': 50.60815245218659}\n",
      "Starting iteration 60\n",
      "Losses {'ner': 87.71183009836068}\n",
      "Starting iteration 61\n",
      "Losses {'ner': 57.37895535377956}\n",
      "Starting iteration 62\n",
      "Losses {'ner': 94.87394549960572}\n",
      "Starting iteration 63\n",
      "Losses {'ner': 57.93463853116203}\n",
      "Starting iteration 64\n",
      "Losses {'ner': 52.59667983038076}\n",
      "Starting iteration 65\n",
      "Losses {'ner': 55.008916948712496}\n",
      "Starting iteration 66\n",
      "Losses {'ner': 68.87538529631873}\n",
      "Starting iteration 67\n",
      "Losses {'ner': 76.86661395632153}\n",
      "Starting iteration 68\n",
      "Losses {'ner': 72.24788661694862}\n",
      "Starting iteration 69\n",
      "Losses {'ner': 59.55481846689172}\n",
      "Starting iteration 70\n",
      "Losses {'ner': 68.6931629702351}\n",
      "Starting iteration 71\n",
      "Losses {'ner': 68.62329287632343}\n",
      "Starting iteration 72\n",
      "Losses {'ner': 54.093238965327814}\n",
      "Starting iteration 73\n",
      "Losses {'ner': 41.98567622369852}\n",
      "Starting iteration 74\n",
      "Losses {'ner': 55.335699738325246}\n",
      "Starting iteration 75\n",
      "Losses {'ner': 72.17398972867062}\n",
      "Starting iteration 76\n",
      "Losses {'ner': 82.05177554175692}\n",
      "Starting iteration 77\n",
      "Losses {'ner': 52.03355848204594}\n",
      "Starting iteration 78\n",
      "Losses {'ner': 48.39697008965578}\n",
      "Starting iteration 79\n",
      "Losses {'ner': 63.33316404073696}\n",
      "Starting iteration 80\n",
      "Losses {'ner': 74.1696905623707}\n",
      "Starting iteration 81\n",
      "Losses {'ner': 30.178755466145773}\n",
      "Starting iteration 82\n",
      "Losses {'ner': 29.457416498747172}\n",
      "Starting iteration 83\n",
      "Losses {'ner': 39.37702686033863}\n",
      "Starting iteration 84\n",
      "Losses {'ner': 32.07035586403774}\n",
      "Starting iteration 85\n",
      "Losses {'ner': 42.74112549269749}\n",
      "Starting iteration 86\n",
      "Losses {'ner': 33.93967765115876}\n",
      "Starting iteration 87\n",
      "Losses {'ner': 16.357825010117768}\n",
      "Starting iteration 88\n",
      "Losses {'ner': 65.98581835704168}\n",
      "Starting iteration 89\n",
      "Losses {'ner': 282.59398358980064}\n",
      "Starting iteration 90\n",
      "Losses {'ner': 56.994376465577915}\n",
      "Starting iteration 91\n",
      "Losses {'ner': 48.04496075436818}\n",
      "Starting iteration 92\n",
      "Losses {'ner': 70.048703267492}\n",
      "Starting iteration 93\n",
      "Losses {'ner': 40.908590082480615}\n",
      "Starting iteration 94\n",
      "Losses {'ner': 59.05491599770549}\n",
      "Starting iteration 95\n",
      "Losses {'ner': 31.840907447550098}\n",
      "Starting iteration 96\n",
      "Losses {'ner': 35.74457630713661}\n",
      "Starting iteration 97\n",
      "Losses {'ner': 67.67101788001125}\n",
      "Starting iteration 98\n",
      "Losses {'ner': 35.67870077801843}\n",
      "Starting iteration 99\n",
      "Losses {'ner': 21.8140391449298}\n",
      "Starting iteration 100\n",
      "Losses {'ner': 29.49650744163487}\n",
      "Starting iteration 101\n",
      "Losses {'ner': 48.38416732046981}\n",
      "Starting iteration 102\n",
      "Losses {'ner': 34.66609177382618}\n",
      "Starting iteration 103\n",
      "Losses {'ner': 25.875904873719204}\n",
      "Starting iteration 104\n",
      "Losses {'ner': 43.724324789659285}\n",
      "Starting iteration 105\n",
      "Losses {'ner': 36.17018431850063}\n",
      "Starting iteration 106\n",
      "Losses {'ner': 45.02605500257429}\n",
      "Starting iteration 107\n",
      "Losses {'ner': 39.844415812462806}\n",
      "Starting iteration 108\n",
      "Losses {'ner': 31.16894109621686}\n",
      "Starting iteration 109\n",
      "Losses {'ner': 26.558214791028295}\n",
      "Starting iteration 110\n",
      "Losses {'ner': 20.36905214117768}\n",
      "Starting iteration 111\n",
      "Losses {'ner': 43.19644693629596}\n",
      "Starting iteration 112\n",
      "Losses {'ner': 38.2886755987196}\n",
      "Starting iteration 113\n",
      "Losses {'ner': 53.372230543894354}\n",
      "Starting iteration 114\n",
      "Losses {'ner': 44.17145520060724}\n",
      "Starting iteration 115\n",
      "Losses {'ner': 37.96102474607446}\n",
      "Starting iteration 116\n",
      "Losses {'ner': 37.244807254184025}\n",
      "Starting iteration 117\n",
      "Losses {'ner': 35.49335515954935}\n",
      "Starting iteration 118\n",
      "Losses {'ner': 40.10295345398845}\n",
      "Starting iteration 119\n",
      "Losses {'ner': 11.964704032097302}\n",
      "Starting iteration 120\n",
      "Losses {'ner': 29.616610777194726}\n",
      "Starting iteration 121\n",
      "Losses {'ner': 29.677584132520412}\n",
      "Starting iteration 122\n",
      "Losses {'ner': 27.016318805256972}\n",
      "Starting iteration 123\n",
      "Losses {'ner': 28.747161856854383}\n",
      "Starting iteration 124\n",
      "Losses {'ner': 28.936909518798323}\n",
      "Starting iteration 125\n",
      "Losses {'ner': 23.9429712664099}\n",
      "Starting iteration 126\n",
      "Losses {'ner': 38.82169441189118}\n",
      "Starting iteration 127\n",
      "Losses {'ner': 58.48411662761927}\n",
      "Starting iteration 128\n",
      "Losses {'ner': 59.64460034907606}\n",
      "Starting iteration 129\n",
      "Losses {'ner': 7.616697025113331}\n",
      "Starting iteration 130\n",
      "Losses {'ner': 22.92504128113304}\n",
      "Starting iteration 131\n",
      "Losses {'ner': 19.31109165556504}\n",
      "Starting iteration 132\n",
      "Losses {'ner': 26.652463886064442}\n",
      "Starting iteration 133\n",
      "Losses {'ner': 68.07942369439017}\n",
      "Starting iteration 134\n",
      "Losses {'ner': 16.895816887642685}\n",
      "Starting iteration 135\n",
      "Losses {'ner': 40.398874622579406}\n",
      "Starting iteration 136\n",
      "Losses {'ner': 25.078648277886007}\n",
      "Starting iteration 137\n",
      "Losses {'ner': 33.902081200439305}\n",
      "Starting iteration 138\n",
      "Losses {'ner': 54.40913740458179}\n",
      "Starting iteration 139\n",
      "Losses {'ner': 25.753369116113394}\n",
      "Starting iteration 140\n",
      "Losses {'ner': 32.831791189901864}\n",
      "Starting iteration 141\n",
      "Losses {'ner': 28.97714601247843}\n",
      "Starting iteration 142\n",
      "Losses {'ner': 30.211670940506295}\n",
      "Starting iteration 143\n",
      "Losses {'ner': 29.05089852778556}\n",
      "Starting iteration 144\n",
      "Losses {'ner': 45.71937590124828}\n",
      "Starting iteration 145\n"
     ]
    },
    {
     "name": "stdout",
     "output_type": "stream",
     "text": [
      "Losses {'ner': 36.52442932859618}\n",
      "Starting iteration 146\n",
      "Losses {'ner': 22.484824084403154}\n",
      "Starting iteration 147\n",
      "Losses {'ner': 21.314368004075416}\n",
      "Starting iteration 148\n",
      "Losses {'ner': 30.89286903904283}\n",
      "Starting iteration 149\n",
      "Losses {'ner': 13.380778518850885}\n",
      "Done updating spacy model...\n"
     ]
    }
   ],
   "source": [
    "train_model(train_data, test_data)"
   ]
  },
  {
   "cell_type": "code",
   "execution_count": 57,
   "id": "progressive-moral",
   "metadata": {
    "scrolled": true
   },
   "outputs": [
    {
     "data": {
      "image/png": "[encoded data removed]",
      "text/plain": [
       "<Figure size 432x288 with 1 Axes>"
      ]
     },
     "metadata": {
      "needs_background": "light"
     },
     "output_type": "display_data"
    }
   ],
   "source": [
    "loss = []\n",
    "for i in range(len(y_axis)):\n",
    "    loss.append(y_axis[i]['ner'])\n",
    "plt.plot(x_axis, loss)\n",
    "plt.title(\"Training Losses over Iteration\")\n",
    "plt.xlabel(\"Iterations\")\n",
    "plt.ylabel(\"Losses\")\n",
    "plt.show()"
   ]
  },
  {
   "cell_type": "markdown",
   "id": "impaired-steam",
   "metadata": {},
   "source": [
    "### Test Trained Model"
   ]
  },
  {
   "cell_type": "code",
   "execution_count": 58,
   "id": "grand-mexican",
   "metadata": {
    "scrolled": true
   },
   "outputs": [],
   "source": [
    "# # test the trained model\n",
    "# for text, _ in test_data:\n",
    "#     doc = nlp(text)\n",
    "#     print('Entities', [(ent.text, ent.label_) for ent in doc.ents])\n",
    "#     print('Tokens', [(t.text, t.ent_type_, t.ent_iob) for t in doc])"
   ]
  },
  {
   "cell_type": "markdown",
   "id": "veterinary-martial",
   "metadata": {},
   "source": [
    "### Load the Model"
   ]
  },
  {
   "cell_type": "code",
   "execution_count": 59,
   "id": "lightweight-clark",
   "metadata": {},
   "outputs": [],
   "source": [
    "nlp_model = spacy.load('nlp_model')"
   ]
  },
  {
   "cell_type": "markdown",
   "id": "studied-thinking",
   "metadata": {},
   "source": [
    "### Model Evaluation"
   ]
  },
  {
   "cell_type": "code",
   "execution_count": 60,
   "id": "continental-turtle",
   "metadata": {
    "scrolled": true
   },
   "outputs": [
    {
     "name": "stderr",
     "output_type": "stream",
     "text": [
      "<ipython-input-60-68c9415fb420>:7: UserWarning: [W030] Some entities could not be aligned in the text \"Contact www.linkedin.com/in/muhammad- zamir-763232...\" with entities \"[[286, 300, 'Name'], [1507, 1532, 'CollegeName'], ...\". Use `spacy.gold.biluo_tags_from_offsets(nlp.make_doc(text), entities)` to check the alignment. Misaligned entities (with BILUO tag '-') will be ignored during training.\n",
      "  gold = GoldParse(doc_gold_text, entities=annot.get(\"entities\"))\n",
      "\n"
     ]
    },
    {
     "data": {
      "text/plain": [
       "{'uas': 0.0,\n",
       " 'las': 0.0,\n",
       " 'las_per_type': {'': {'p': 0.0, 'r': 0.0, 'f': 0.0}},\n",
       " 'ents_p': 62.96296296296296,\n",
       " 'ents_r': 51.515151515151516,\n",
       " 'ents_f': 56.666666666666664,\n",
       " 'ents_per_type': {'Email': {'p': 76.47058823529412,\n",
       "   'r': 86.66666666666667,\n",
       "   'f': 81.25},\n",
       "  'Skills': {'p': 76.19047619047619,\n",
       "   'r': 62.745098039215684,\n",
       "   'f': 68.81720430107526},\n",
       "  'CollegeName': {'p': 54.54545454545454,\n",
       "   'r': 35.294117647058826,\n",
       "   'f': 42.857142857142854},\n",
       "  'GraduationYear': {'p': 25.0,\n",
       "   'r': 23.52941176470588,\n",
       "   'f': 24.242424242424242},\n",
       "  'Name': {'p': 75.0, 'r': 33.33333333333333, 'f': 46.15384615384615},\n",
       "  'CompaniesWorkAt': {'p': 50.0,\n",
       "   'r': 29.411764705882355,\n",
       "   'f': 37.03703703703704},\n",
       "  'YearsofExperience': {'p': 61.111111111111114,\n",
       "   'r': 61.111111111111114,\n",
       "   'f': 61.111111111111114},\n",
       "  'Location': {'p': 61.53846153846154, 'r': 66.66666666666666, 'f': 64.0}},\n",
       " 'tags_acc': 0.0,\n",
       " 'token_acc': 100.0,\n",
       " 'textcat_score': 0.0,\n",
       " 'textcats_per_cat': {}}"
      ]
     },
     "execution_count": 60,
     "metadata": {},
     "output_type": "execute_result"
    }
   ],
   "source": [
    "#uas, las, tag_Acc are for Dependency parsing\n",
    "def evaluate(nlp_model, test_data):\n",
    "    counter = 0\n",
    "    scorer = Scorer()\n",
    "    for text, annot in test_data:\n",
    "        doc_gold_text = nlp_model.make_doc(text)\n",
    "        gold = GoldParse(doc_gold_text, entities=annot.get(\"entities\"))\n",
    "        pred_value = nlp_model(text)\n",
    "        scorer.score(pred_value, gold)\n",
    "        counter += 1\n",
    "        #print(counter)\n",
    "    return scorer.scores\n",
    "\n",
    "results = evaluate(nlp_model, test_data)\n",
    "results"
   ]
  },
  {
   "cell_type": "markdown",
   "id": "rational-princeton",
   "metadata": {},
   "source": [
    "# Testing"
   ]
  },
  {
   "cell_type": "code",
   "execution_count": 61,
   "id": "together-temple",
   "metadata": {},
   "outputs": [
    {
     "data": {
      "text/plain": [
       "[\"Contact www.linkedin.com/in/jim- looi-52313312 (LinkedIn) Top Skills Strategy Business Strategy Sales Process Languages English (Full Professional) Cantonese (Native or Bilingual) Chinese (Native or Bilingual) Mandarin (Native or Bilingual) Japanese (Elementary) Jim Looi Sales Manager at STMicroelectronics 6eiangoi Summary Involvie in daily operational and managing regional sales in Greater China and South East Asia, eg Shanghai, Shenzhen, Taipei, Penang, Singapore, Bangkok. Specialties: Fluent in both spoken and written English, Mandarin, Cantonese, and Malay. Fair in Japanese public speaking. Experience STMicroelectronics Sales Manager August 2005 - Present (16 years 5 months) * Reporting directly to Head of Department, whom reporting to CEO. * Managing a sales and customer service team of 6-8 persons located in Greater China and Asia Pacific. * Responsible for sales development in Electronic Manufacturing Services segment and distribution includes identifying new business opportunities, building linkages, managing and providing suitable solutions in securing the business bidding process and order fulfillment. * Responsible for strategizing, leading and managing sales and conceptualizing and differentiating sales tactics in order to achieve assigned sales targets. * Recent regional sales achievements : Y2009 USD45M Y2010 USD6OM Y2011 USD110M LifeTech Net Sdn. Bhd Senior Sales Manager February 2002 - August 2005 (3 years 7 months) Business owned and operated by Telekom M'sia Bhd. Products: wide area network telco & wireless solution # Reporting directly to Managing Director # Involved in management decision-making and strategy planning. # Managing a sales team of 8-10 persons. Page 1 of 2 # Responsible for sales development which involves identifying business opportunities, building linkages, managing and providing suitable solutions in securing the business bidding process. # Responsible for strategizing, leading and managing sales and marketing activities in order to achieve assigned sales targets. # Responsible for conceptualizing and differentiating sales tactics against competition in tender propositions. Education University of Leicester Master, Business Administration MBA * (1997 - 2001) The University of Western Australia Honors, Electronic Engineering * (1989 - 1992) Page 2 of 2\",\n",
       " {'entities': [[263, 271, 'Name'],\n",
       "   [2159, 2182, 'CollegeName'],\n",
       "   [2229, 2234, 'GraduationYear'],\n",
       "   [669, 687, 'YearsofExperience'],\n",
       "   [289, 307, 'CompaniesWorkAt'],\n",
       "   [8, 46, 'Email'],\n",
       "   [69, 77, 'Skills'],\n",
       "   [78, 95, 'Skills'],\n",
       "   [96, 109, 'Skills']]}]"
      ]
     },
     "execution_count": 61,
     "metadata": {},
     "output_type": "execute_result"
    }
   ],
   "source": [
    "test_data[10]"
   ]
  },
  {
   "cell_type": "code",
   "execution_count": 83,
   "id": "lucky-celtic",
   "metadata": {},
   "outputs": [
    {
     "name": "stdout",
     "output_type": "stream",
     "text": [
      "EMAIL                         - www.linkedin.com/in/jimcarey\n",
      "SKILLS                        - IT Service Management\n",
      "SKILLS                        - Service Management\n",
      "COMPANIESWORKAT               - 21 years\n",
      "COMPANIESWORKAT               - Prudential Services Asia\n",
      "YEARSOFEXPERIENCE             - 10 years\n",
      "YEARSOFEXPERIENCE             - 4 years 3 months)\n",
      "COLLEGENAME                   - Cardiff University /\n",
      "GRADUATIONYEAR                - 1992)\n"
     ]
    }
   ],
   "source": [
    "test_doc = nlp_model(test_data[18][0]) \n",
    "for ent in test_doc.ents:\n",
    "    print(f'{ent.label_.upper():{30}}- {ent.text}')"
   ]
  },
  {
   "cell_type": "code",
   "execution_count": 86,
   "id": "roman-tutorial",
   "metadata": {},
   "outputs": [
    {
     "data": {
      "text/html": [
       "<span class=\"tex2jax_ignore\"><div class=\"entities\" style=\"line-height: 2.5; direction: ltr\">    \n",
       "<mark class=\"entity\" style=\"background: #ddd; padding: 0.45em 0.6em; margin: 0 0.25em; line-height: 1; border-radius: 0.35em;\">\n",
       "    Contact www.linkedin.com/in/hongong\n",
       "    <span style=\"font-size: 0.8em; font-weight: bold; line-height: 1; border-radius: 0.35em; text-transform: uppercase; vertical-align: middle; margin-left: 0.5rem\">Email</span>\n",
       "</mark>\n",
       " (LinkedIn) Top Skills \n",
       "<mark class=\"entity\" style=\"background: #ddd; padding: 0.45em 0.6em; margin: 0 0.25em; line-height: 1; border-radius: 0.35em;\">\n",
       "    High Performance Computing\n",
       "    <span style=\"font-size: 0.8em; font-weight: bold; line-height: 1; border-radius: 0.35em; text-transform: uppercase; vertical-align: middle; margin-left: 0.5rem\">Skills</span>\n",
       "</mark>\n",
       " \n",
       "<mark class=\"entity\" style=\"background: #ddd; padding: 0.45em 0.6em; margin: 0 0.25em; line-height: 1; border-radius: 0.35em;\">\n",
       "    Operating Systems\n",
       "    <span style=\"font-size: 0.8em; font-weight: bold; line-height: 1; border-radius: 0.35em; text-transform: uppercase; vertical-align: middle; margin-left: 0.5rem\">Skills</span>\n",
       "</mark>\n",
       " \n",
       "<mark class=\"entity\" style=\"background: #ddd; padding: 0.45em 0.6em; margin: 0 0.25em; line-height: 1; border-radius: 0.35em;\">\n",
       "    Fault Tolerance\n",
       "    <span style=\"font-size: 0.8em; font-weight: bold; line-height: 1; border-radius: 0.35em; text-transform: uppercase; vertical-align: middle; margin-left: 0.5rem\">Skills</span>\n",
       "</mark>\n",
       " Languages Bahasa Melayu (Malay) (Limited Working) English (Full Professional) Chinese (Professional Working) Certifications Design Thinking Bootcamp Competing on Business Analytics and Big Data \n",
       "<mark class=\"entity\" style=\"background: #ddd; padding: 0.45em 0.6em; margin: 0 0.25em; line-height: 1; border-radius: 0.35em;\">\n",
       "    Hong H. Ong\n",
       "    <span style=\"font-size: 0.8em; font-weight: bold; line-height: 1; border-radius: 0.35em; text-transform: uppercase; vertical-align: middle; margin-left: 0.5rem\">Name</span>\n",
       "</mark>\n",
       " Head of Data Science and Analytics | Data Strategy, Innovation &amp; Transformation | Build intelligent enterprise powered with data-driven analytics \n",
       "<mark class=\"entity\" style=\"background: #ddd; padding: 0.45em 0.6em; margin: 0 0.25em; line-height: 1; border-radius: 0.35em;\">\n",
       "    Kuala Lumpur\n",
       "    <span style=\"font-size: 0.8em; font-weight: bold; line-height: 1; border-radius: 0.35em; text-transform: uppercase; vertical-align: middle; margin-left: 0.5rem\">Location</span>\n",
       "</mark>\n",
       " Summary I have two decades of data intensive computing experience. I am passionate about applying data strategy together with business driven technology to solve industrial problems.  I have a strong record of success in leading, managing and delivering top tier innovative technology to align and achieve organisation needs and goals. I am currently the Head of Data Science and Analytics at Central Bank of Malaysia where I lead a team of data scientists and machine learning engineers responsible to provide advance analytics in the Bank.  Prior to the Bank,  I worked at MIMOS Berhad, Malaysia's national Applied R&amp;D institute, where I led data vision and products roadmap for Artificial Intelligence, Data-intensive analytics, and Cloud IaaS &amp; PaaS technologies.   My early work experiences was in computational science and High Performance Computing (HPC) system runtime software and architecture at a prestigious US national laboratory to support groundbreaking scientific discoveries.   I hold a Ph.D. in Computer Science from UK and B.S and M.S in Computer Science from US.  I frequently speak at international conferences, and contributed extensively to the industry through 52 filed patents, 2 book chapters and 80 refereed papers.  Apart from my day job, I am serving as Industry Advisor to Universities and Advisory Consultant to public and private sectors.  In my spare time, beside spending quality time with my family, I enjoy learning about emerging technologies and various intelligent systems, particularly in the area of HPC and Machine Learning, and thinking about their applicability in private/public sectors and their social impacts.  Specialties:    Page 1 of 4     • High Performance Computing • Cloud and Big Data Analytic Technologies • Artificial Intelligence Technologies • IT Strategy &amp; Technology Operations • Business Strategic and Data-Driven Decision Making • Project/Program Management Experience \n",
       "<mark class=\"entity\" style=\"background: #ddd; padding: 0.45em 0.6em; margin: 0 0.25em; line-height: 1; border-radius: 0.35em;\">\n",
       "    Central Banking Services Bank Negara Malaysia\n",
       "    <span style=\"font-size: 0.8em; font-weight: bold; line-height: 1; border-radius: 0.35em; text-transform: uppercase; vertical-align: middle; margin-left: 0.5rem\">CompaniesWorkAt</span>\n",
       "</mark>\n",
       " Head of Data Science and Analytics September 2020 - Present (1 year 4 months) \n",
       "<mark class=\"entity\" style=\"background: #ddd; padding: 0.45em 0.6em; margin: 0 0.25em; line-height: 1; border-radius: 0.35em;\">\n",
       "    Kuala Lumpur,\n",
       "    <span style=\"font-size: 0.8em; font-weight: bold; line-height: 1; border-radius: 0.35em; text-transform: uppercase; vertical-align: middle; margin-left: 0.5rem\">Location</span>\n",
       "</mark>\n",
       " Federal Territory of Kuala Lumpur, Malaysia I manage the data science &amp; machine learning team at Central Bank of Malaysia that works on a broad range of problems, including monetary stability, financial stability, prudential supervisory and regulation, organisational analytics, and more.  As a data leader, I lead the team's strategy &amp; growth, along with engaging on the deep technical content the team is driving. As a team, we drive the data science and analytics vision in the Bank, which spans across strategy, people, processes and technology in supporting the Bank’s move towards becoming a data and insight-driven organisation.   MIMOS Berhad 7 years 11 months Senior Director, Corporate Technology June 2015 - August 2020 (5 years 3 months) Kuala Lumpur, Malaysia During my tenure here, I headed three departments, namely Advanced Computing Lab (ACL), Accelerative Technology Lab (ATL), and Artificial Intelligence Lab (AIL). ACL is recognized as particularly strong in the areas of system software and architecture.  We investigate these areas in the context of emerging computing paradigms such as cloud computing, mobile computing, data- intensive computing, and edge computing, and explore their utilisation in supporting enterprise applications. Currently focusing on using lean virtualisation technologies to manage Internet-of-Things (IoTs) applications at the network edge.   For storage area, our work focus on data protection and availability, long-term data preservation, and storage optimization.  As for   Page 2 of 4     network virtualization, we focus on cloud-based network policy and security. Since 2012, we have developed and deployed our cloud and storage platforms to public and private sectors.  ATL investigates the use of Accelerators such as Graphics Processing Units (GPUs) and Field Programmable Gate Arrays (FPGAs) for industrial and scientific applications. We applied the state-of-the-art of parallel computational algorithms and implemented them as libraries, interfaces, or accelerative components. Since 2012, ATL has developed and deployed to industries including GPU Graph/Text Analytics, GPU Image Processing for Multi-Video Analytic, GPU SQL query Accelerator, and GPU Accelerated Library (Mi- AccLib).  AIL focuses on Artificial Intelligence technology to develop high performance Intelligent Big Data Analytics. The R&amp;D team applies Data Science and Knowledge Science technologies like Machine Learning, Semantic Technology, large scale Graph Analytics, and Natural Language Processing for deriving insights from the  unstructured and structured data.  We have been applied the technology to Domain Knowledge Management, Enterprise Performance Management, Online Analytical Processing, Predictive Analytics and Prescriptive Analytics. Director October 2012 - May 2015 (2 years 8 months) eManual System Sdn Bhd Chief Technology Officer April 2012 - September 2012 (6 months) Kuala Lumpur, Federal Territory of Kuala Lumpur, Malaysia Developed the innovation framework to meet business objectives.   Developed the company’s go-to-market strategy. MIMOS Berhad Principal Researcher June 2010 - March 2012 (1 year 10 months) Applied R&amp;D in broad aspects of reliability and security in distributed systems, particularly in Infrastructure-as-a-service. Direct report to Chief Technology Officer. Oak Ridge National Laboratory (ORNL) Sr. HPC Research Scientist   Page 3 of 4     April 2005 - August 2009 (4 years 5 months) Conducted R&amp;D to determine the best way to approach system tools and libraries as well as recommending the best path forward for application and system resiliency development on petascale computers Conducted R&amp;D into cluster computing techniques, tools, algorithms, and high- performance networking hardware. \n",
       "<mark class=\"entity\" style=\"background: #ddd; padding: 0.45em 0.6em; margin: 0 0.25em; line-height: 1; border-radius: 0.35em;\">\n",
       "    University of Portsmouth\n",
       "    <span style=\"font-size: 0.8em; font-weight: bold; line-height: 1; border-radius: 0.35em; text-transform: uppercase; vertical-align: middle; margin-left: 0.5rem\">CollegeName</span>\n",
       "</mark>\n",
       " Post-Doctoral Research Associate November 2003 - March 2005 (1 year 5 months) Conducted R&amp;D in the area of resource management for distributed computing. Deployed and maintained the UK e-Science OGSA Grid Testbed infrastructure Education University of Portsmouth Ph.D, Computer Science · (2001 - 2004) Kent State University M.Sc, Computer Science · (1996 - 1999) Kent State University B. Sc, Computer Science · (1991 - 1996)   Page 4 of 4 </div></span>"
      ],
      "text/plain": [
       "<IPython.core.display.HTML object>"
      ]
     },
     "metadata": {},
     "output_type": "display_data"
    }
   ],
   "source": [
    "spacy.displacy.render(test_doc, style='ent', jupyter=True)"
   ]
  },
  {
   "cell_type": "code",
   "execution_count": 27,
   "id": "helpful-intranet",
   "metadata": {},
   "outputs": [
    {
     "name": "stdout",
     "output_type": "stream",
     "text": [
      "EMAIL                         - www.linkedin.com/in/travis-leong- b2670775\n",
      "SKILLS                        - Management\n",
      "SKILLS                        - Project Management\n",
      "SKILLS                        - Business Process Improvement\n",
      "NAME                          - Travis Leong\n",
      "COMPANIESWORKAT               - Focus Point Vision Care Group\n"
     ]
    }
   ],
   "source": [
    "test = \"Contact www.linkedin.com/in/travis-leong- b2670775 (LinkedIn) Top Skills Management Project Management Business Process Improvement Travis Leong Application Support Manager at Focus Point Vision Care Group IVIalaysta Experience Focus Point Vision Care Group Application Support Manager Page 1 of 1\"\n",
    "test_doc = nlp_model(test) \n",
    "for ent in test_doc.ents:\n",
    "    print(f'{ent.label_.upper():{30}}- {ent.text}')"
   ]
  },
  {
   "cell_type": "code",
   "execution_count": 24,
   "id": "legal-solid",
   "metadata": {},
   "outputs": [
    {
     "name": "stdout",
     "output_type": "stream",
     "text": [
      "EMAIL                         - www.linkedin.com/in/travis-leong- b2670775\n",
      "SKILLS                        - Management\n",
      "SKILLS                        - Project\n",
      "SKILLS                        - Management\n",
      "SKILLS                        - Business\n",
      "SKILLS                        - Process Improvement\n",
      "NAME                          - Travis Leong\n",
      "COMPANIESWORKAT               - Focus Point Vision\n"
     ]
    }
   ],
   "source": [
    "test = \"Contact www.linkedin.com/in/travis-leong- b2670775 (LinkedIn) Top Skills Management Project Management Business Process Improvement Travis Leong Application Support Manager at Focus Point Vision Care Group IVIalaysta Experience Focus Point Vision Care Group Application Support Manager Page 1 of 1\"\n",
    "test_doc = nlp_model(test) \n",
    "for ent in test_doc.ents:\n",
    "    print(f'{ent.label_.upper():{30}}- {ent.text}')"
   ]
  },
  {
   "cell_type": "code",
   "execution_count": 23,
   "id": "dying-clinic",
   "metadata": {},
   "outputs": [
    {
     "name": "stdout",
     "output_type": "stream",
     "text": [
      "NAME                          - Abhishek Jha\n",
      "DESIGNATION                   - Application Development Associate\n",
      "COMPANIES WORKED AT           - Accenture\n",
      "LOCATION                      - Bengaluru\n",
      "EMAIL ADDRESS                 - Indeed: indeed.com/r/Abhishek-Jha/10e7a8cb732bc43a\n",
      "DESIGNATION                   - Application Development Associate\n",
      "COMPANIES WORKED AT           - Accenture\n",
      "DESIGNATION                   - B.E in Information science and engineering\n",
      "COLLEGE NAME                  - B.v.b college of engineering and technology\n",
      "GRADUATION YEAR               - 2017\n",
      "COLLEGE NAME                  - Woodbine modern school\n",
      "COLLEGE NAME                  - Kendriya Vidyalaya\n",
      "SKILLS                        - C (Less than 1 year), Database (Less than 1 year), Database Management (Less than 1 year), Database Management System (Less than 1 year), Java (Less than 1 year)\n",
      "SKILLS                        - • Programming language: C, C++, Java • Oracle PeopleSoft • Internet Of Things • Machine Learning • Database Management System • Computer Networks • Operating System worked on: Linux, Windows, Mac  Non - Technical Skills  • Honest and Hard-Working • Tolerant and Flexible to Different Situations • Polite and Calm • Team-Player\n"
     ]
    }
   ],
   "source": [
    "# merged dataset\n",
    "test = \"Abhishek Jha Application Development Associate - Accenture  Bengaluru, Karnataka - Email me on Indeed: indeed.com/r/Abhishek-Jha/10e7a8cb732bc43a  • To work for an organization which provides me the opportunity to improve my skills and knowledge for my individual and company's growth in best possible ways.  Willing to relocate to: Bangalore, Karnataka  WORK EXPERIENCE  Application Development Associate  Accenture -  November 2017 to Present  Role: Currently working on Chat-bot. Developing Backend Oracle PeopleSoft Queries for the Bot which will be triggered based on given input. Also, Training the bot for different possible utterances (Both positive and negative), which will be given as input by the user.  EDUCATION  B.E in Information science and engineering  B.v.b college of engineering and technology -  Hubli, Karnataka  August 2013 to June 2017  12th in Mathematics  Woodbine modern school  April 2011 to March 2013  10th  Kendriya Vidyalaya  April 2001 to March 2011  SKILLS  C (Less than 1 year), Database (Less than 1 year), Database Management (Less than 1 year), Database Management System (Less than 1 year), Java (Less than 1 year)  ADDITIONAL INFORMATION  Technical Skills  https://www.indeed.com/r/Abhishek-Jha/10e7a8cb732bc43a?isid=rex-download&ikw=download-top&co=IN   • Programming language: C, C++, Java • Oracle PeopleSoft • Internet Of Things • Machine Learning • Database Management System • Computer Networks • Operating System worked on: Linux, Windows, Mac  Non - Technical Skills  • Honest and Hard-Working • Tolerant and Flexible to Different Situations • Polite and Calm • Team-Player\"\n",
    "test_doc = nlp_model(test) \n",
    "for ent in test_doc.ents:\n",
    "    print(f'{ent.label_.upper():{30}}- {ent.text}')"
   ]
  },
  {
   "cell_type": "code",
   "execution_count": 28,
   "id": "falling-former",
   "metadata": {},
   "outputs": [
    {
     "name": "stdout",
     "output_type": "stream",
     "text": [
      "SKILLS                        - Abhishek Jha\n"
     ]
    }
   ],
   "source": [
    "test = \"Abhishek Jha Application Development Associate - Accenture  Bengaluru, Karnataka - Email me on Indeed: indeed.com/r/Abhishek-Jha/10e7a8cb732bc43a  • To work for an organization which provides me the opportunity to improve my skills and knowledge for my individual and company's growth in best possible ways.  Willing to relocate to: Bangalore, Karnataka  WORK EXPERIENCE  Application Development Associate  Accenture -  November 2017 to Present  Role: Currently working on Chat-bot. Developing Backend Oracle PeopleSoft Queries for the Bot which will be triggered based on given input. Also, Training the bot for different possible utterances (Both positive and negative), which will be given as input by the user.  EDUCATION  B.E in Information science and engineering  B.v.b college of engineering and technology -  Hubli, Karnataka  August 2013 to June 2017  12th in Mathematics  Woodbine modern school  April 2011 to March 2013  10th  Kendriya Vidyalaya  April 2001 to March 2011  SKILLS  C (Less than 1 year), Database (Less than 1 year), Database Management (Less than 1 year), Database Management System (Less than 1 year), Java (Less than 1 year)  ADDITIONAL INFORMATION  Technical Skills  https://www.indeed.com/r/Abhishek-Jha/10e7a8cb732bc43a?isid=rex-download&ikw=download-top&co=IN   • Programming language: C, C++, Java • Oracle PeopleSoft • Internet Of Things • Machine Learning • Database Management System • Computer Networks • Operating System worked on: Linux, Windows, Mac  Non - Technical Skills  • Honest and Hard-Working • Tolerant and Flexible to Different Situations • Polite and Calm • Team-Player\"\n",
    "test_doc = nlp_model(test) \n",
    "for ent in test_doc.ents:\n",
    "    print(f'{ent.label_.upper():{30}}- {ent.text}')"
   ]
  },
  {
   "cell_type": "code",
   "execution_count": 62,
   "id": "aggregate-confusion",
   "metadata": {},
   "outputs": [
    {
     "name": "stdout",
     "output_type": "stream",
     "text": [
      "EMAIL                         - www.linkedin.com/in/john-ooi- a593b145\n",
      "SKILLS                        - Firewalls\n",
      "\n",
      "\n",
      "SKILLS                        - Tellabs\n",
      "YEARSOFEXPERIENCE             - 4 years 2 months)\n",
      "GRADUATIONYEAR                - 2007\n"
     ]
    }
   ],
   "source": [
    "test = \"\"\"Contact\n",
    "\n",
    "www.linkedin.com/in/john-ooi- a593b145 (LinkedIn)\n",
    "\n",
    "Top Skills Firewalls\n",
    "\n",
    "Security TCP/IP\n",
    "\n",
    "Certifications\n",
    "\n",
    "Tellabs - Certificate of Achievement Tellabs Managed Edge System\n",
    "\n",
    "Tellabs 8600 Hardware Interface Module Installation and Replacement Certification\n",
    "\n",
    "Certified Information System Security Professional (CISSP)\n",
    "\n",
    "Certified Penetration Testing Engineer\n",
    "\n",
    "AlienVault Certified Security Engineer\n",
    "John Ooi\n",
    "\n",
    "Principal Security Consultant Seiangoi\n",
    "\n",
    "Experience\n",
    "\n",
    "SysArmy Sdn Bhd Principal Security Consultant November 2017 - Present (4 years 2 months)\n",
    "\n",
    "PKF Malaysia Senior Security Consultant November 2016 - October 2017 (1 year)\n",
    "\n",
    "e-Cop Surveillance Sdn Bhd Security Consultant November 2012 - October 2016 (4 years)\n",
    "\n",
    "* Supporting various of Managed Security Service clients.\n",
    "* Work closely with SOC team to provide 2nd level of support.\n",
    "* Involved in pre-sales activities for market leading ICT security solutions such as IFS, APT, SIEM etc.\n",
    "* Provision of Technical Pre-sales and Post-Sales support to assigned\n",
    "\n",
    "accounts (Financial Service Sector) * Preparation of Technical Proposals, Tender Documentation, Presentations, Technical Briefings and follow-up discussion, implementation and review * Preparation of Monthly Security Incident Reports and Presentation * Liaising with clients/users with regards to security incident reports and\n",
    "\n",
    "handling * Provision of Advisories and Technical Recommendations to clients to enhance security network posture, controls, policies, processes and practices.\n",
    "* Propose technical solutions and functional consultation and support in project implementation with excellent customer service skills.\n",
    "* Provide guidance to Security Engineer in project implementation & troubleshooting.\n",
    "* Involve in operational services: security compliance, gap analysis, risk management, resource violation and external gateways perimeter review.\n",
    "\n",
    "AT&T Communication Services Project Validation & Guidance Coordinator April 2011 - November 2012 (1 year 8 months)\n",
    "\n",
    "Page 1 of 2\n",
    " \n",
    "Diversified Gateway Berhard Network Support Engineer March 2009 - April 2011 (2 years 2 months)\n",
    "\n",
    "Satyam Computer Services Ltd Network & System Support Engineer July 2007 - March 2009 (1 year 9 months)\n",
    "\n",
    "Education\n",
    "\n",
    "Universiti Putra Malaysia Computer Science, Networking\n",
    "\n",
    "Page 2 of 2\"\"\"\n",
    "test_doc = nlp_model(test) \n",
    "for ent in test_doc.ents:\n",
    "    print(f'{ent.label_.upper():{30}}- {ent.text}')"
   ]
  },
  {
   "cell_type": "code",
   "execution_count": 89,
   "id": "certain-craft",
   "metadata": {},
   "outputs": [
    {
     "name": "stdout",
     "output_type": "stream",
     "text": [
      "LOCATION                      - kuala lumpur\n"
     ]
    }
   ],
   "source": [
    "test = \"kuala lumpur johor bahru\"\n",
    "test_doc = nlp_model(test) \n",
    "for ent in test_doc.ents:\n",
    "    print(f'{ent.label_.upper():{30}}- {ent.text}')"
   ]
  },
  {
   "cell_type": "markdown",
   "id": "prescribed-canyon",
   "metadata": {},
   "source": [
    "### Read Text from PDF"
   ]
  },
  {
   "cell_type": "code",
   "execution_count": 29,
   "id": "isolated-round",
   "metadata": {
    "scrolled": true
   },
   "outputs": [
    {
     "name": "stdout",
     "output_type": "stream",
     "text": [
      "    Contact www.linkedin.com/in/hongong (LinkedIn) Top Skills High Performance Computing Operating Systems Fault Tolerance Languages Bahasa Melayu (Malay) (Limited Working) English (Full Professional) Chinese (Professional Working) Certifications Design Thinking Bootcamp Competing on Business Analytics and Big Data Hong H. Ong Head of Data Science and Analytics | Data Strategy, Innovation & Transformation | Build intelligent enterprise powered with data-driven analytics Kuala Lumpur Summary I have two decades of data intensive computing experience. I am passionate about applying data strategy together with business driven technology to solve industrial problems.  I have a strong record of success in leading, managing and delivering top tier innovative technology to align and achieve organisation needs and goals. I am currently the Head of Data Science and Analytics at Central Bank of Malaysia where I lead a team of data scientists and machine learning engineers responsible to provide advance analytics in the Bank.  Prior to the Bank,  I worked at MIMOS Berhad, Malaysia's national Applied R&D institute, where I led data vision and products roadmap for Artificial Intelligence, Data-intensive analytics, and Cloud IaaS & PaaS technologies.   My early work experiences was in computational science and High Performance Computing (HPC) system runtime software and architecture at a prestigious US national laboratory to support groundbreaking scientific discoveries.   I hold a Ph.D. in Computer Science from UK and B.S and M.S in Computer Science from US.  I frequently speak at international conferences, and contributed extensively to the industry through 52 filed patents, 2 book chapters and 80 refereed papers.  Apart from my day job, I am serving as Industry Advisor to Universities and Advisory Consultant to public and private sectors.  In my spare time, beside spending quality time with my family, I enjoy learning about emerging technologies and various intelligent systems, particularly in the area of HPC and Machine Learning, and thinking about their applicability in private/public sectors and their social impacts.  Specialties:    Page 1 of 4     • High Performance Computing • Cloud and Big Data Analytic Technologies • Artificial Intelligence Technologies • IT Strategy & Technology Operations • Business Strategic and Data-Driven Decision Making • Project/Program Management Experience Central Banking Services Bank Negara Malaysia Head of Data Science and Analytics September 2020 - Present (1 year 4 months) Kuala Lumpur, Federal Territory of Kuala Lumpur, Malaysia I manage the data science & machine learning team at Central Bank of Malaysia that works on a broad range of problems, including monetary stability, financial stability, prudential supervisory and regulation, organisational analytics, and more.  As a data leader, I lead the team's strategy & growth, along with engaging on the deep technical content the team is driving. As a team, we drive the data science and analytics vision in the Bank, which spans across strategy, people, processes and technology in supporting the Bank’s move towards becoming a data and insight-driven organisation.   MIMOS Berhad 7 years 11 months Senior Director, Corporate Technology June 2015 - August 2020 (5 years 3 months) Kuala Lumpur, Malaysia During my tenure here, I headed three departments, namely Advanced Computing Lab (ACL), Accelerative Technology Lab (ATL), and Artificial Intelligence Lab (AIL). ACL is recognized as particularly strong in the areas of system software and architecture.  We investigate these areas in the context of emerging computing paradigms such as cloud computing, mobile computing, data- intensive computing, and edge computing, and explore their utilisation in supporting enterprise applications. Currently focusing on using lean virtualisation technologies to manage Internet-of-Things (IoTs) applications at the network edge.   For storage area, our work focus on data protection and availability, long-term data preservation, and storage optimization.  As for   Page 2 of 4     network virtualization, we focus on cloud-based network policy and security. Since 2012, we have developed and deployed our cloud and storage platforms to public and private sectors.  ATL investigates the use of Accelerators such as Graphics Processing Units (GPUs) and Field Programmable Gate Arrays (FPGAs) for industrial and scientific applications. We applied the state-of-the-art of parallel computational algorithms and implemented them as libraries, interfaces, or accelerative components. Since 2012, ATL has developed and deployed to industries including GPU Graph/Text Analytics, GPU Image Processing for Multi-Video Analytic, GPU SQL query Accelerator, and GPU Accelerated Library (Mi- AccLib).  AIL focuses on Artificial Intelligence technology to develop high performance Intelligent Big Data Analytics. The R&D team applies Data Science and Knowledge Science technologies like Machine Learning, Semantic Technology, large scale Graph Analytics, and Natural Language Processing for deriving insights from the  unstructured and structured data.  We have been applied the technology to Domain Knowledge Management, Enterprise Performance Management, Online Analytical Processing, Predictive Analytics and Prescriptive Analytics. Director October 2012 - May 2015 (2 years 8 months) eManual System Sdn Bhd Chief Technology Officer April 2012 - September 2012 (6 months) Kuala Lumpur, Federal Territory of Kuala Lumpur, Malaysia Developed the innovation framework to meet business objectives.   Developed the company’s go-to-market strategy. MIMOS Berhad Principal Researcher June 2010 - March 2012 (1 year 10 months) Applied R&D in broad aspects of reliability and security in distributed systems, particularly in Infrastructure-as-a-service. Direct report to Chief Technology Officer. Oak Ridge National Laboratory (ORNL) Sr. HPC Research Scientist   Page 3 of 4     April 2005 - August 2009 (4 years 5 months) Conducted R&D to determine the best way to approach system tools and libraries as well as recommending the best path forward for application and system resiliency development on petascale computers Conducted R&D into cluster computing techniques, tools, algorithms, and high- performance networking hardware. University of Portsmouth Post-Doctoral Research Associate November 2003 - March 2005 (1 year 5 months) Conducted R&D in the area of resource management for distributed computing. Deployed and maintained the UK e-Science OGSA Grid Testbed infrastructure Education University of Portsmouth Ph.D, Computer Science · (2001 - 2004) Kent State University M.Sc, Computer Science · (1996 - 1999) Kent State University B. Sc, Computer Science · (1991 - 1996)   Page 4 of 4 \n"
     ]
    },
    {
     "name": "stderr",
     "output_type": "stream",
     "text": [
      "Deprecation: 'getText' removed from class 'Page' after v1.19.0 - use 'get_text'.\n"
     ]
    }
   ],
   "source": [
    "import sys, fitz\n",
    "pdf_file = '../json_0000.pdf'\n",
    "input_doc = fitz.open(pdf_file)\n",
    "text = \"\"\n",
    "for page in input_doc:\n",
    "    text = text + str(page.getText() )\n",
    "text = \" \".join(text.split('\\n'))\n",
    "print(text)"
   ]
  },
  {
   "cell_type": "code",
   "execution_count": 85,
   "id": "wound-compromise",
   "metadata": {},
   "outputs": [
    {
     "name": "stdout",
     "output_type": "stream",
     "text": [
      "EMAIL                         - Contact www.linkedin.com/in/hongong\n",
      "SKILLS                        - High Performance Computing\n",
      "SKILLS                        - Operating Systems\n",
      "SKILLS                        - Fault Tolerance\n",
      "NAME                          - Hong H. Ong\n",
      "LOCATION                      - Kuala Lumpur\n",
      "COMPANIESWORKAT               - Central Banking Services Bank Negara Malaysia\n",
      "LOCATION                      - Kuala Lumpur,\n",
      "COLLEGENAME                   - University of Portsmouth\n"
     ]
    }
   ],
   "source": [
    "test_doc = nlp_model(text) \n",
    "for ent in test_doc.ents:\n",
    "    print(f'{ent.label_.upper():{30}}- {ent.text}')"
   ]
  },
  {
   "cell_type": "code",
   "execution_count": null,
   "id": "supposed-dance",
   "metadata": {},
   "outputs": [],
   "source": []
  }
 ],
 "metadata": {
  "kernelspec": {
   "display_name": "Python 3",
   "language": "python",
   "name": "python3"
  },
  "language_info": {
   "codemirror_mode": {
    "name": "ipython",
    "version": 3
   },
   "file_extension": ".py",
   "mimetype": "text/x-python",
   "name": "python",
   "nbconvert_exporter": "python",
   "pygments_lexer": "ipython3",
   "version": "3.8.5"
  }
 },
 "nbformat": 4,
 "nbformat_minor": 5
}
