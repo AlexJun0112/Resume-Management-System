{
 "cells": [
  {
   "cell_type": "code",
   "execution_count": 91,
   "id": "ac815c2c-dbf1-424e-a1f9-f1cf7f3c5f3f",
   "metadata": {},
   "outputs": [],
   "source": [
    "import os\n",
    "import selenium\n",
    "from selenium import webdriver\n",
    "import time\n",
    "from PIL import Image\n",
    "import io\n",
    "import requests\n",
    "from webdriver_manager.chrome import ChromeDriverManager\n",
    "from selenium.common.exceptions import ElementClickInterceptedException"
   ]
  },
  {
   "cell_type": "code",
   "execution_count": 92,
   "id": "cc8cdc4f-936d-45e7-9e3a-577754b9969d",
   "metadata": {},
   "outputs": [
    {
     "name": "stderr",
     "output_type": "stream",
     "text": [
      "\n",
      "\n",
      "====== WebDriver manager ======\n",
      "Current google-chrome version is 96.0.4664\n",
      "Get LATEST chromedriver version for 96.0.4664 google-chrome\n",
      "Driver [/home/john/.wdm/drivers/chromedriver/linux64/96.0.4664.45/chromedriver] found in cache\n",
      "/tmp/ipykernel_6303/4053306283.py:2: DeprecationWarning: executable_path has been deprecated, please pass in a Service object\n",
      "  driver = webdriver.Chrome(ChromeDriverManager().install())\n"
     ]
    }
   ],
   "source": [
    "#Install Driver\n",
    "driver = webdriver.Chrome(ChromeDriverManager().install())\n",
    "driver.maximize_window()"
   ]
  },
  {
   "cell_type": "code",
   "execution_count": 93,
   "id": "52a9fbed-3fa1-4039-a9eb-7449bda8a098",
   "metadata": {},
   "outputs": [],
   "source": [
    "#Specify Search URL \n",
    "search_url=\"https://www.linkedin.com/login\"\n",
    "\n",
    "driver.get(search_url)\n",
    "time.sleep(1)"
   ]
  },
  {
   "cell_type": "code",
   "execution_count": 94,
   "id": "244bd82e-e1e3-4257-a9b2-87f02a327c23",
   "metadata": {},
   "outputs": [
    {
     "name": "stderr",
     "output_type": "stream",
     "text": [
      "/tmp/ipykernel_6303/3984083830.py:1: DeprecationWarning: find_element_by_* commands are deprecated. Please use find_element() instead\n",
      "  username = driver.find_element_by_id('username')\n",
      "/tmp/ipykernel_6303/3984083830.py:2: DeprecationWarning: find_element_by_* commands are deprecated. Please use find_element() instead\n",
      "  password = driver.find_element_by_id('password')\n"
     ]
    }
   ],
   "source": [
    "username = driver.find_element_by_id('username')\n",
    "password = driver.find_element_by_id('password')"
   ]
  },
  {
   "cell_type": "code",
   "execution_count": 95,
   "id": "00242f40-8745-4adb-98af-4c18f2a9af84",
   "metadata": {},
   "outputs": [],
   "source": [
    "username.send_keys(\"pleaseworkusob@gmail.com\")\n",
    "password.send_keys(\"2000qwe5M:::\")"
   ]
  },
  {
   "cell_type": "code",
   "execution_count": 96,
   "id": "63875b38-0958-4a03-94fc-652cae4068af",
   "metadata": {},
   "outputs": [],
   "source": [
    "username.submit()"
   ]
  },
  {
   "cell_type": "code",
   "execution_count": 97,
   "id": "662fd4e8-78ba-47c2-badf-6f306f4aea16",
   "metadata": {},
   "outputs": [],
   "source": [
    "search_url=\"https://www.linkedin.com/search/results/people/?keywords={q}&origin=CLUSTER_EXPANSION&sid=~1J\"\n",
    "\n",
    "driver.get(search_url.format(q='lim'))\n",
    "time.sleep(1)"
   ]
  },
  {
   "cell_type": "code",
   "execution_count": 98,
   "id": "621ed834-d67f-4320-b6cd-4146578dddf4",
   "metadata": {},
   "outputs": [
    {
     "name": "stderr",
     "output_type": "stream",
     "text": [
      "/tmp/ipykernel_6303/1089482851.py:2: DeprecationWarning: find_elements_by_* commands are deprecated. Please use find_elements() instead\n",
      "  profile = driver.find_elements_by_css_selector(\".app-aware-link[aria-hidden='false']\")[i]\n",
      "/tmp/ipykernel_6303/1089482851.py:5: DeprecationWarning: find_element_by_* commands are deprecated. Please use find_element() instead\n",
      "  element = driver.find_element_by_css_selector(\"[aria-label='More actions']\")\n",
      "/tmp/ipykernel_6303/1089482851.py:8: DeprecationWarning: find_element_by_* commands are deprecated. Please use find_element() instead\n",
      "  element = driver.find_element_by_css_selector(\"[data-control-name='save_to_pdf']\")\n"
     ]
    }
   ],
   "source": [
    "for i in range(10):\n",
    "    profile = driver.find_elements_by_css_selector(\".app-aware-link[aria-hidden='false']\")[i]\n",
    "    driver.execute_script(\"arguments[0].click();\", profile)\n",
    "    time.sleep(1)\n",
    "    element = driver.find_element_by_css_selector(\"[aria-label='More actions']\")\n",
    "    driver.execute_script(\"arguments[0].click();\", element)\n",
    "    time.sleep(1)\n",
    "    element = driver.find_element_by_css_selector(\"[data-control-name='save_to_pdf']\")\n",
    "    driver.execute_script(\"arguments[0].click();\", element)\n",
    "    driver.back()\n",
    "    time.sleep(0.5)"
   ]
  },
  {
   "cell_type": "code",
   "execution_count": null,
   "id": "c722497e-6eac-4400-9bd5-c236be1033e2",
   "metadata": {},
   "outputs": [],
   "source": []
  }
 ],
 "metadata": {
  "kernelspec": {
   "display_name": "Python 3 (ipykernel)",
   "language": "python",
   "name": "python3"
  },
  "language_info": {
   "codemirror_mode": {
    "name": "ipython",
    "version": 3
   },
   "file_extension": ".py",
   "mimetype": "text/x-python",
   "name": "python",
   "nbconvert_exporter": "python",
   "pygments_lexer": "ipython3",
   "version": "3.8.10"
  }
 },
 "nbformat": 4,
 "nbformat_minor": 5
}
